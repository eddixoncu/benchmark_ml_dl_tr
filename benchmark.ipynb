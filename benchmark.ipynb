{
 "cells": [
  {
   "cell_type": "code",
   "execution_count": 1,
   "metadata": {},
   "outputs": [],
   "source": [
    "import pandas as pd\n",
    "import numpy as np\n",
    "import seaborn as sns\n",
    "import matplotlib.pyplot as plt\n"
   ]
  },
  {
   "cell_type": "code",
   "execution_count": 2,
   "metadata": {},
   "outputs": [],
   "source": [
    "ds = \".\\\\DS\\\\df_575000.csv\" \n",
    "df = pd.read_csv(ds)"
   ]
  },
  {
   "cell_type": "code",
   "execution_count": 3,
   "metadata": {},
   "outputs": [
    {
     "data": {
      "text/html": [
       "<div>\n",
       "<style scoped>\n",
       "    .dataframe tbody tr th:only-of-type {\n",
       "        vertical-align: middle;\n",
       "    }\n",
       "\n",
       "    .dataframe tbody tr th {\n",
       "        vertical-align: top;\n",
       "    }\n",
       "\n",
       "    .dataframe thead th {\n",
       "        text-align: right;\n",
       "    }\n",
       "</style>\n",
       "<table border=\"1\" class=\"dataframe\">\n",
       "  <thead>\n",
       "    <tr style=\"text-align: right;\">\n",
       "      <th></th>\n",
       "      <th>Unnamed: 0</th>\n",
       "      <th>Destination Port</th>\n",
       "      <th>Flow Duration</th>\n",
       "      <th>Total Fwd Packets</th>\n",
       "      <th>Total Backward Packets</th>\n",
       "      <th>Total Length of Fwd Packets</th>\n",
       "      <th>Total Length of Bwd Packets</th>\n",
       "      <th>Fwd Packet Length Max</th>\n",
       "      <th>Fwd Packet Length Min</th>\n",
       "      <th>Fwd Packet Length Mean</th>\n",
       "      <th>...</th>\n",
       "      <th>min_seg_size_forward</th>\n",
       "      <th>Active Mean</th>\n",
       "      <th>Active Std</th>\n",
       "      <th>Active Max</th>\n",
       "      <th>Active Min</th>\n",
       "      <th>Idle Mean</th>\n",
       "      <th>Idle Std</th>\n",
       "      <th>Idle Max</th>\n",
       "      <th>Idle Min</th>\n",
       "      <th>Label</th>\n",
       "    </tr>\n",
       "  </thead>\n",
       "  <tbody>\n",
       "    <tr>\n",
       "      <th>0</th>\n",
       "      <td>340035</td>\n",
       "      <td>52916</td>\n",
       "      <td>3</td>\n",
       "      <td>2</td>\n",
       "      <td>0</td>\n",
       "      <td>12</td>\n",
       "      <td>0</td>\n",
       "      <td>6</td>\n",
       "      <td>6</td>\n",
       "      <td>6.00</td>\n",
       "      <td>...</td>\n",
       "      <td>20</td>\n",
       "      <td>0.0</td>\n",
       "      <td>0.0</td>\n",
       "      <td>0</td>\n",
       "      <td>0</td>\n",
       "      <td>0.0</td>\n",
       "      <td>0.0</td>\n",
       "      <td>0</td>\n",
       "      <td>0</td>\n",
       "      <td>BENIGN</td>\n",
       "    </tr>\n",
       "    <tr>\n",
       "      <th>1</th>\n",
       "      <td>254724</td>\n",
       "      <td>80</td>\n",
       "      <td>86051432</td>\n",
       "      <td>7</td>\n",
       "      <td>7</td>\n",
       "      <td>413</td>\n",
       "      <td>11595</td>\n",
       "      <td>407</td>\n",
       "      <td>0</td>\n",
       "      <td>59.00</td>\n",
       "      <td>...</td>\n",
       "      <td>20</td>\n",
       "      <td>2020.0</td>\n",
       "      <td>0.0</td>\n",
       "      <td>2020</td>\n",
       "      <td>2020</td>\n",
       "      <td>85900000.0</td>\n",
       "      <td>0.0</td>\n",
       "      <td>85900000</td>\n",
       "      <td>85900000</td>\n",
       "      <td>DoS Hulk</td>\n",
       "    </tr>\n",
       "    <tr>\n",
       "      <th>2</th>\n",
       "      <td>90206</td>\n",
       "      <td>443</td>\n",
       "      <td>80742</td>\n",
       "      <td>8</td>\n",
       "      <td>4</td>\n",
       "      <td>546</td>\n",
       "      <td>3495</td>\n",
       "      <td>193</td>\n",
       "      <td>0</td>\n",
       "      <td>68.25</td>\n",
       "      <td>...</td>\n",
       "      <td>20</td>\n",
       "      <td>0.0</td>\n",
       "      <td>0.0</td>\n",
       "      <td>0</td>\n",
       "      <td>0</td>\n",
       "      <td>0.0</td>\n",
       "      <td>0.0</td>\n",
       "      <td>0</td>\n",
       "      <td>0</td>\n",
       "      <td>BENIGN</td>\n",
       "    </tr>\n",
       "  </tbody>\n",
       "</table>\n",
       "<p>3 rows × 80 columns</p>\n",
       "</div>"
      ],
      "text/plain": [
       "   Unnamed: 0  Destination Port  Flow Duration  Total Fwd Packets  \\\n",
       "0      340035             52916              3                  2   \n",
       "1      254724                80       86051432                  7   \n",
       "2       90206               443          80742                  8   \n",
       "\n",
       "   Total Backward Packets  Total Length of Fwd Packets  \\\n",
       "0                       0                           12   \n",
       "1                       7                          413   \n",
       "2                       4                          546   \n",
       "\n",
       "   Total Length of Bwd Packets  Fwd Packet Length Max  Fwd Packet Length Min  \\\n",
       "0                            0                      6                      6   \n",
       "1                        11595                    407                      0   \n",
       "2                         3495                    193                      0   \n",
       "\n",
       "   Fwd Packet Length Mean  ...  min_seg_size_forward  Active Mean  Active Std  \\\n",
       "0                    6.00  ...                    20          0.0         0.0   \n",
       "1                   59.00  ...                    20       2020.0         0.0   \n",
       "2                   68.25  ...                    20          0.0         0.0   \n",
       "\n",
       "   Active Max  Active Min   Idle Mean  Idle Std  Idle Max  Idle Min     Label  \n",
       "0           0           0         0.0       0.0         0         0    BENIGN  \n",
       "1        2020        2020  85900000.0       0.0  85900000  85900000  DoS Hulk  \n",
       "2           0           0         0.0       0.0         0         0    BENIGN  \n",
       "\n",
       "[3 rows x 80 columns]"
      ]
     },
     "execution_count": 3,
     "metadata": {},
     "output_type": "execute_result"
    }
   ],
   "source": [
    "df.head(3)"
   ]
  },
  {
   "cell_type": "code",
   "execution_count": 4,
   "metadata": {},
   "outputs": [
    {
     "data": {
      "text/plain": [
       "(575000, 80)"
      ]
     },
     "execution_count": 4,
     "metadata": {},
     "output_type": "execute_result"
    }
   ],
   "source": [
    "df.shape"
   ]
  },
  {
   "cell_type": "code",
   "execution_count": 5,
   "metadata": {},
   "outputs": [
    {
     "name": "stdout",
     "output_type": "stream",
     "text": [
      "<class 'pandas.core.frame.DataFrame'>\n",
      "RangeIndex: 575000 entries, 0 to 574999\n",
      "Data columns (total 80 columns):\n",
      " #   Column                       Non-Null Count   Dtype  \n",
      "---  ------                       --------------   -----  \n",
      " 0   Unnamed: 0                   575000 non-null  int64  \n",
      " 1   Destination Port             575000 non-null  int64  \n",
      " 2   Flow Duration                575000 non-null  int64  \n",
      " 3   Total Fwd Packets            575000 non-null  int64  \n",
      " 4   Total Backward Packets       575000 non-null  int64  \n",
      " 5   Total Length of Fwd Packets  575000 non-null  int64  \n",
      " 6   Total Length of Bwd Packets  575000 non-null  int64  \n",
      " 7   Fwd Packet Length Max        575000 non-null  int64  \n",
      " 8   Fwd Packet Length Min        575000 non-null  int64  \n",
      " 9   Fwd Packet Length Mean       575000 non-null  float64\n",
      " 10  Fwd Packet Length Std        575000 non-null  float64\n",
      " 11  Bwd Packet Length Max        575000 non-null  int64  \n",
      " 12  Bwd Packet Length Min        575000 non-null  int64  \n",
      " 13  Bwd Packet Length Mean       575000 non-null  float64\n",
      " 14  Bwd Packet Length Std        575000 non-null  float64\n",
      " 15  Flow Bytes/s                 574743 non-null  float64\n",
      " 16  Flow Packets/s               575000 non-null  float64\n",
      " 17  Flow IAT Mean                575000 non-null  float64\n",
      " 18  Flow IAT Std                 575000 non-null  float64\n",
      " 19  Flow IAT Max                 575000 non-null  int64  \n",
      " 20  Flow IAT Min                 575000 non-null  int64  \n",
      " 21  Fwd IAT Total                575000 non-null  int64  \n",
      " 22  Fwd IAT Mean                 575000 non-null  float64\n",
      " 23  Fwd IAT Std                  575000 non-null  float64\n",
      " 24  Fwd IAT Max                  575000 non-null  int64  \n",
      " 25  Fwd IAT Min                  575000 non-null  int64  \n",
      " 26  Bwd IAT Total                575000 non-null  int64  \n",
      " 27  Bwd IAT Mean                 575000 non-null  float64\n",
      " 28  Bwd IAT Std                  575000 non-null  float64\n",
      " 29  Bwd IAT Max                  575000 non-null  int64  \n",
      " 30  Bwd IAT Min                  575000 non-null  int64  \n",
      " 31  Fwd PSH Flags                575000 non-null  int64  \n",
      " 32  Bwd PSH Flags                575000 non-null  int64  \n",
      " 33  Fwd URG Flags                575000 non-null  int64  \n",
      " 34  Bwd URG Flags                575000 non-null  int64  \n",
      " 35  Fwd Header Length            575000 non-null  int64  \n",
      " 36  Bwd Header Length            575000 non-null  int64  \n",
      " 37  Fwd Packets/s                575000 non-null  float64\n",
      " 38  Bwd Packets/s                575000 non-null  float64\n",
      " 39  Min Packet Length            575000 non-null  int64  \n",
      " 40  Max Packet Length            575000 non-null  int64  \n",
      " 41  Packet Length Mean           575000 non-null  float64\n",
      " 42  Packet Length Std            575000 non-null  float64\n",
      " 43  Packet Length Variance       575000 non-null  float64\n",
      " 44  FIN Flag Count               575000 non-null  int64  \n",
      " 45  SYN Flag Count               575000 non-null  int64  \n",
      " 46  RST Flag Count               575000 non-null  int64  \n",
      " 47  PSH Flag Count               575000 non-null  int64  \n",
      " 48  ACK Flag Count               575000 non-null  int64  \n",
      " 49  URG Flag Count               575000 non-null  int64  \n",
      " 50  CWE Flag Count               575000 non-null  int64  \n",
      " 51  ECE Flag Count               575000 non-null  int64  \n",
      " 52  Down/Up Ratio                575000 non-null  int64  \n",
      " 53  Average Packet Size          575000 non-null  float64\n",
      " 54  Avg Fwd Segment Size         575000 non-null  float64\n",
      " 55  Avg Bwd Segment Size         575000 non-null  float64\n",
      " 56  Fwd Header Length.1          575000 non-null  int64  \n",
      " 57  Fwd Avg Bytes/Bulk           575000 non-null  int64  \n",
      " 58  Fwd Avg Packets/Bulk         575000 non-null  int64  \n",
      " 59  Fwd Avg Bulk Rate            575000 non-null  int64  \n",
      " 60  Bwd Avg Bytes/Bulk           575000 non-null  int64  \n",
      " 61  Bwd Avg Packets/Bulk         575000 non-null  int64  \n",
      " 62  Bwd Avg Bulk Rate            575000 non-null  int64  \n",
      " 63  Subflow Fwd Packets          575000 non-null  int64  \n",
      " 64  Subflow Fwd Bytes            575000 non-null  int64  \n",
      " 65  Subflow Bwd Packets          575000 non-null  int64  \n",
      " 66  Subflow Bwd Bytes            575000 non-null  int64  \n",
      " 67  Init_Win_bytes_forward       575000 non-null  int64  \n",
      " 68  Init_Win_bytes_backward      575000 non-null  int64  \n",
      " 69  act_data_pkt_fwd             575000 non-null  int64  \n",
      " 70  min_seg_size_forward         575000 non-null  int64  \n",
      " 71  Active Mean                  575000 non-null  float64\n",
      " 72  Active Std                   575000 non-null  float64\n",
      " 73  Active Max                   575000 non-null  int64  \n",
      " 74  Active Min                   575000 non-null  int64  \n",
      " 75  Idle Mean                    575000 non-null  float64\n",
      " 76  Idle Std                     575000 non-null  float64\n",
      " 77  Idle Max                     575000 non-null  int64  \n",
      " 78  Idle Min                     575000 non-null  int64  \n",
      " 79  Label                        575000 non-null  object \n",
      "dtypes: float64(24), int64(55), object(1)\n",
      "memory usage: 351.0+ MB\n"
     ]
    }
   ],
   "source": [
    "df.info()"
   ]
  },
  {
   "cell_type": "code",
   "execution_count": 6,
   "metadata": {},
   "outputs": [
    {
     "name": "stderr",
     "output_type": "stream",
     "text": [
      "c:\\Files\\Code\\repo\\benchmark_ml_dl_tr\\env\\Lib\\site-packages\\pandas\\core\\nanops.py:1016: RuntimeWarning: invalid value encountered in subtract\n",
      "  sqr = _ensure_numeric((avg - values) ** 2)\n",
      "c:\\Files\\Code\\repo\\benchmark_ml_dl_tr\\env\\Lib\\site-packages\\pandas\\core\\nanops.py:1016: RuntimeWarning: invalid value encountered in subtract\n",
      "  sqr = _ensure_numeric((avg - values) ** 2)\n"
     ]
    },
    {
     "data": {
      "text/html": [
       "<div>\n",
       "<style scoped>\n",
       "    .dataframe tbody tr th:only-of-type {\n",
       "        vertical-align: middle;\n",
       "    }\n",
       "\n",
       "    .dataframe tbody tr th {\n",
       "        vertical-align: top;\n",
       "    }\n",
       "\n",
       "    .dataframe thead th {\n",
       "        text-align: right;\n",
       "    }\n",
       "</style>\n",
       "<table border=\"1\" class=\"dataframe\">\n",
       "  <thead>\n",
       "    <tr style=\"text-align: right;\">\n",
       "      <th></th>\n",
       "      <th>count</th>\n",
       "      <th>mean</th>\n",
       "      <th>std</th>\n",
       "      <th>min</th>\n",
       "      <th>25%</th>\n",
       "      <th>50%</th>\n",
       "      <th>75%</th>\n",
       "      <th>max</th>\n",
       "    </tr>\n",
       "  </thead>\n",
       "  <tbody>\n",
       "    <tr>\n",
       "      <th>Unnamed: 0</th>\n",
       "      <td>575000.0</td>\n",
       "      <td>2.193543e+05</td>\n",
       "      <td>1.655723e+05</td>\n",
       "      <td>0.0</td>\n",
       "      <td>88421.0</td>\n",
       "      <td>177858.0</td>\n",
       "      <td>320509.5</td>\n",
       "      <td>692692.0</td>\n",
       "    </tr>\n",
       "    <tr>\n",
       "      <th>Destination Port</th>\n",
       "      <td>575000.0</td>\n",
       "      <td>8.047551e+03</td>\n",
       "      <td>1.825988e+04</td>\n",
       "      <td>0.0</td>\n",
       "      <td>53.0</td>\n",
       "      <td>80.0</td>\n",
       "      <td>443.0</td>\n",
       "      <td>65535.0</td>\n",
       "    </tr>\n",
       "    <tr>\n",
       "      <th>Flow Duration</th>\n",
       "      <td>575000.0</td>\n",
       "      <td>1.478292e+07</td>\n",
       "      <td>3.363565e+07</td>\n",
       "      <td>-13.0</td>\n",
       "      <td>155.0</td>\n",
       "      <td>31336.0</td>\n",
       "      <td>3252934.0</td>\n",
       "      <td>119999992.0</td>\n",
       "    </tr>\n",
       "    <tr>\n",
       "      <th>Total Fwd Packets</th>\n",
       "      <td>575000.0</td>\n",
       "      <td>8.336753e+00</td>\n",
       "      <td>5.927451e+02</td>\n",
       "      <td>1.0</td>\n",
       "      <td>2.0</td>\n",
       "      <td>2.0</td>\n",
       "      <td>5.0</td>\n",
       "      <td>202456.0</td>\n",
       "    </tr>\n",
       "    <tr>\n",
       "      <th>Total Backward Packets</th>\n",
       "      <td>575000.0</td>\n",
       "      <td>9.049572e+00</td>\n",
       "      <td>7.943878e+02</td>\n",
       "      <td>0.0</td>\n",
       "      <td>1.0</td>\n",
       "      <td>2.0</td>\n",
       "      <td>4.0</td>\n",
       "      <td>272353.0</td>\n",
       "    </tr>\n",
       "    <tr>\n",
       "      <th>...</th>\n",
       "      <td>...</td>\n",
       "      <td>...</td>\n",
       "      <td>...</td>\n",
       "      <td>...</td>\n",
       "      <td>...</td>\n",
       "      <td>...</td>\n",
       "      <td>...</td>\n",
       "      <td>...</td>\n",
       "    </tr>\n",
       "    <tr>\n",
       "      <th>Active Min</th>\n",
       "      <td>575000.0</td>\n",
       "      <td>5.749389e+04</td>\n",
       "      <td>5.199032e+05</td>\n",
       "      <td>0.0</td>\n",
       "      <td>0.0</td>\n",
       "      <td>0.0</td>\n",
       "      <td>0.0</td>\n",
       "      <td>72400000.0</td>\n",
       "    </tr>\n",
       "    <tr>\n",
       "      <th>Idle Mean</th>\n",
       "      <td>575000.0</td>\n",
       "      <td>8.304506e+06</td>\n",
       "      <td>2.360630e+07</td>\n",
       "      <td>0.0</td>\n",
       "      <td>0.0</td>\n",
       "      <td>0.0</td>\n",
       "      <td>0.0</td>\n",
       "      <td>120000000.0</td>\n",
       "    </tr>\n",
       "    <tr>\n",
       "      <th>Idle Std</th>\n",
       "      <td>575000.0</td>\n",
       "      <td>5.029885e+05</td>\n",
       "      <td>4.601737e+06</td>\n",
       "      <td>0.0</td>\n",
       "      <td>0.0</td>\n",
       "      <td>0.0</td>\n",
       "      <td>0.0</td>\n",
       "      <td>76600000.0</td>\n",
       "    </tr>\n",
       "    <tr>\n",
       "      <th>Idle Max</th>\n",
       "      <td>575000.0</td>\n",
       "      <td>8.682639e+06</td>\n",
       "      <td>2.434272e+07</td>\n",
       "      <td>0.0</td>\n",
       "      <td>0.0</td>\n",
       "      <td>0.0</td>\n",
       "      <td>0.0</td>\n",
       "      <td>120000000.0</td>\n",
       "    </tr>\n",
       "    <tr>\n",
       "      <th>Idle Min</th>\n",
       "      <td>575000.0</td>\n",
       "      <td>7.909277e+06</td>\n",
       "      <td>2.333863e+07</td>\n",
       "      <td>0.0</td>\n",
       "      <td>0.0</td>\n",
       "      <td>0.0</td>\n",
       "      <td>0.0</td>\n",
       "      <td>120000000.0</td>\n",
       "    </tr>\n",
       "  </tbody>\n",
       "</table>\n",
       "<p>79 rows × 8 columns</p>\n",
       "</div>"
      ],
      "text/plain": [
       "                           count          mean           std   min      25%  \\\n",
       "Unnamed: 0              575000.0  2.193543e+05  1.655723e+05   0.0  88421.0   \n",
       "Destination Port        575000.0  8.047551e+03  1.825988e+04   0.0     53.0   \n",
       "Flow Duration           575000.0  1.478292e+07  3.363565e+07 -13.0    155.0   \n",
       "Total Fwd Packets       575000.0  8.336753e+00  5.927451e+02   1.0      2.0   \n",
       "Total Backward Packets  575000.0  9.049572e+00  7.943878e+02   0.0      1.0   \n",
       "...                          ...           ...           ...   ...      ...   \n",
       "Active Min              575000.0  5.749389e+04  5.199032e+05   0.0      0.0   \n",
       "Idle Mean               575000.0  8.304506e+06  2.360630e+07   0.0      0.0   \n",
       "Idle Std                575000.0  5.029885e+05  4.601737e+06   0.0      0.0   \n",
       "Idle Max                575000.0  8.682639e+06  2.434272e+07   0.0      0.0   \n",
       "Idle Min                575000.0  7.909277e+06  2.333863e+07   0.0      0.0   \n",
       "\n",
       "                             50%        75%          max  \n",
       "Unnamed: 0              177858.0   320509.5     692692.0  \n",
       "Destination Port            80.0      443.0      65535.0  \n",
       "Flow Duration            31336.0  3252934.0  119999992.0  \n",
       "Total Fwd Packets            2.0        5.0     202456.0  \n",
       "Total Backward Packets       2.0        4.0     272353.0  \n",
       "...                          ...        ...          ...  \n",
       "Active Min                   0.0        0.0   72400000.0  \n",
       "Idle Mean                    0.0        0.0  120000000.0  \n",
       "Idle Std                     0.0        0.0   76600000.0  \n",
       "Idle Max                     0.0        0.0  120000000.0  \n",
       "Idle Min                     0.0        0.0  120000000.0  \n",
       "\n",
       "[79 rows x 8 columns]"
      ]
     },
     "execution_count": 6,
     "metadata": {},
     "output_type": "execute_result"
    }
   ],
   "source": [
    "df.describe().T"
   ]
  },
  {
   "cell_type": "code",
   "execution_count": 7,
   "metadata": {},
   "outputs": [
    {
     "data": {
      "text/plain": [
       "(574743, 80)"
      ]
     },
     "execution_count": 7,
     "metadata": {},
     "output_type": "execute_result"
    }
   ],
   "source": [
    "# Discarding NA values.\n",
    "df= df.dropna()\n",
    "df.shape"
   ]
  },
  {
   "cell_type": "code",
   "execution_count": 8,
   "metadata": {},
   "outputs": [
    {
     "name": "stderr",
     "output_type": "stream",
     "text": [
      "c:\\Files\\Code\\repo\\benchmark_ml_dl_tr\\env\\Lib\\site-packages\\pandas\\core\\nanops.py:1016: RuntimeWarning: invalid value encountered in subtract\n",
      "  sqr = _ensure_numeric((avg - values) ** 2)\n",
      "c:\\Files\\Code\\repo\\benchmark_ml_dl_tr\\env\\Lib\\site-packages\\pandas\\core\\nanops.py:1016: RuntimeWarning: invalid value encountered in subtract\n",
      "  sqr = _ensure_numeric((avg - values) ** 2)\n"
     ]
    },
    {
     "data": {
      "text/html": [
       "<div>\n",
       "<style scoped>\n",
       "    .dataframe tbody tr th:only-of-type {\n",
       "        vertical-align: middle;\n",
       "    }\n",
       "\n",
       "    .dataframe tbody tr th {\n",
       "        vertical-align: top;\n",
       "    }\n",
       "\n",
       "    .dataframe thead th {\n",
       "        text-align: right;\n",
       "    }\n",
       "</style>\n",
       "<table border=\"1\" class=\"dataframe\">\n",
       "  <thead>\n",
       "    <tr style=\"text-align: right;\">\n",
       "      <th></th>\n",
       "      <th>Bwd PSH Flags</th>\n",
       "      <th>Bwd URG Flags</th>\n",
       "      <th>Fwd Avg Bytes/Bulk</th>\n",
       "      <th>Fwd Avg Packets/Bulk</th>\n",
       "      <th>Fwd Avg Bulk Rate</th>\n",
       "      <th>Bwd Avg Bytes/Bulk</th>\n",
       "      <th>Bwd Avg Packets/Bulk</th>\n",
       "      <th>Bwd Avg Bulk Rate</th>\n",
       "    </tr>\n",
       "  </thead>\n",
       "  <tbody>\n",
       "    <tr>\n",
       "      <th>count</th>\n",
       "      <td>574743.0</td>\n",
       "      <td>574743.0</td>\n",
       "      <td>574743.0</td>\n",
       "      <td>574743.0</td>\n",
       "      <td>574743.0</td>\n",
       "      <td>574743.0</td>\n",
       "      <td>574743.0</td>\n",
       "      <td>574743.0</td>\n",
       "    </tr>\n",
       "    <tr>\n",
       "      <th>mean</th>\n",
       "      <td>0.0</td>\n",
       "      <td>0.0</td>\n",
       "      <td>0.0</td>\n",
       "      <td>0.0</td>\n",
       "      <td>0.0</td>\n",
       "      <td>0.0</td>\n",
       "      <td>0.0</td>\n",
       "      <td>0.0</td>\n",
       "    </tr>\n",
       "    <tr>\n",
       "      <th>std</th>\n",
       "      <td>0.0</td>\n",
       "      <td>0.0</td>\n",
       "      <td>0.0</td>\n",
       "      <td>0.0</td>\n",
       "      <td>0.0</td>\n",
       "      <td>0.0</td>\n",
       "      <td>0.0</td>\n",
       "      <td>0.0</td>\n",
       "    </tr>\n",
       "    <tr>\n",
       "      <th>min</th>\n",
       "      <td>0.0</td>\n",
       "      <td>0.0</td>\n",
       "      <td>0.0</td>\n",
       "      <td>0.0</td>\n",
       "      <td>0.0</td>\n",
       "      <td>0.0</td>\n",
       "      <td>0.0</td>\n",
       "      <td>0.0</td>\n",
       "    </tr>\n",
       "    <tr>\n",
       "      <th>25%</th>\n",
       "      <td>0.0</td>\n",
       "      <td>0.0</td>\n",
       "      <td>0.0</td>\n",
       "      <td>0.0</td>\n",
       "      <td>0.0</td>\n",
       "      <td>0.0</td>\n",
       "      <td>0.0</td>\n",
       "      <td>0.0</td>\n",
       "    </tr>\n",
       "    <tr>\n",
       "      <th>50%</th>\n",
       "      <td>0.0</td>\n",
       "      <td>0.0</td>\n",
       "      <td>0.0</td>\n",
       "      <td>0.0</td>\n",
       "      <td>0.0</td>\n",
       "      <td>0.0</td>\n",
       "      <td>0.0</td>\n",
       "      <td>0.0</td>\n",
       "    </tr>\n",
       "    <tr>\n",
       "      <th>75%</th>\n",
       "      <td>0.0</td>\n",
       "      <td>0.0</td>\n",
       "      <td>0.0</td>\n",
       "      <td>0.0</td>\n",
       "      <td>0.0</td>\n",
       "      <td>0.0</td>\n",
       "      <td>0.0</td>\n",
       "      <td>0.0</td>\n",
       "    </tr>\n",
       "    <tr>\n",
       "      <th>max</th>\n",
       "      <td>0.0</td>\n",
       "      <td>0.0</td>\n",
       "      <td>0.0</td>\n",
       "      <td>0.0</td>\n",
       "      <td>0.0</td>\n",
       "      <td>0.0</td>\n",
       "      <td>0.0</td>\n",
       "      <td>0.0</td>\n",
       "    </tr>\n",
       "  </tbody>\n",
       "</table>\n",
       "</div>"
      ],
      "text/plain": [
       "       Bwd PSH Flags  Bwd URG Flags  Fwd Avg Bytes/Bulk  Fwd Avg Packets/Bulk  \\\n",
       "count       574743.0       574743.0            574743.0              574743.0   \n",
       "mean             0.0            0.0                 0.0                   0.0   \n",
       "std              0.0            0.0                 0.0                   0.0   \n",
       "min              0.0            0.0                 0.0                   0.0   \n",
       "25%              0.0            0.0                 0.0                   0.0   \n",
       "50%              0.0            0.0                 0.0                   0.0   \n",
       "75%              0.0            0.0                 0.0                   0.0   \n",
       "max              0.0            0.0                 0.0                   0.0   \n",
       "\n",
       "       Fwd Avg Bulk Rate  Bwd Avg Bytes/Bulk  Bwd Avg Packets/Bulk  \\\n",
       "count           574743.0            574743.0              574743.0   \n",
       "mean                 0.0                 0.0                   0.0   \n",
       "std                  0.0                 0.0                   0.0   \n",
       "min                  0.0                 0.0                   0.0   \n",
       "25%                  0.0                 0.0                   0.0   \n",
       "50%                  0.0                 0.0                   0.0   \n",
       "75%                  0.0                 0.0                   0.0   \n",
       "max                  0.0                 0.0                   0.0   \n",
       "\n",
       "       Bwd Avg Bulk Rate  \n",
       "count           574743.0  \n",
       "mean                 0.0  \n",
       "std                  0.0  \n",
       "min                  0.0  \n",
       "25%                  0.0  \n",
       "50%                  0.0  \n",
       "75%                  0.0  \n",
       "max                  0.0  "
      ]
     },
     "execution_count": 8,
     "metadata": {},
     "output_type": "execute_result"
    }
   ],
   "source": [
    "## feature selection phase - find cols w/ all zero values \n",
    "\n",
    "#all_datav2.describe().iloc[1:].apply(np.sum, index=[])\n",
    "describe_info = df.describe()\n",
    "all_zeroes_cols = describe_info.loc[:,(describe_info.iloc[1:] == 0).all()]\n",
    "all_zeroes_cols"
   ]
  },
  {
   "cell_type": "code",
   "execution_count": 9,
   "metadata": {},
   "outputs": [
    {
     "data": {
      "text/plain": [
       "(574743, 72)"
      ]
     },
     "execution_count": 9,
     "metadata": {},
     "output_type": "execute_result"
    }
   ],
   "source": [
    "df.drop(columns=all_zeroes_cols, inplace=True)\n",
    "df.shape"
   ]
  },
  {
   "cell_type": "code",
   "execution_count": 10,
   "metadata": {},
   "outputs": [
    {
     "data": {
      "text/plain": [
       "(574743, 73)"
      ]
     },
     "execution_count": 10,
     "metadata": {},
     "output_type": "execute_result"
    }
   ],
   "source": [
    "## Creates a  new column to distinguish if is either positive for attack or not. \n",
    "is_attack = df.loc[:, \"Label\"].map(lambda lbl: 0 if lbl == \"BENIGN\" else 1)\n",
    "is_attack.name = \"is_attack\"\n",
    "df.loc[:, is_attack.name] = is_attack\n",
    "df.shape"
   ]
  },
  {
   "cell_type": "code",
   "execution_count": 11,
   "metadata": {},
   "outputs": [
    {
     "data": {
      "text/plain": [
       "array(['BENIGN', 'DoS Hulk', 'PortScan', 'DoS slowloris', 'DDoS', 'Bot',\n",
       "       'FTP-Patator', 'DoS GoldenEye', 'DoS Slowhttptest', 'SSH-Patator',\n",
       "       'Web Attack � Brute Force', 'Web Attack � XSS', 'Infiltration',\n",
       "       'Heartbleed', 'Web Attack � Sql Injection'], dtype=object)"
      ]
     },
     "execution_count": 11,
     "metadata": {},
     "output_type": "execute_result"
    }
   ],
   "source": [
    "unique_classes = df['Label'].unique()\n",
    "unique_classes"
   ]
  },
  {
   "cell_type": "code",
   "execution_count": 12,
   "metadata": {},
   "outputs": [
    {
     "name": "stderr",
     "output_type": "stream",
     "text": [
      "C:\\Users\\Eddixon\\AppData\\Local\\Temp\\ipykernel_4556\\523406983.py:6: FutureWarning: \n",
      "\n",
      "Passing `palette` without assigning `hue` is deprecated and will be removed in v0.14.0. Assign the `x` variable to `hue` and set `legend=False` for the same effect.\n",
      "\n",
      "  sns.countplot(x=\"is_attack\", data=df, palette=[\"g\",\"r\"], legend=True)\n"
     ]
    },
    {
     "data": {
      "image/png": "[encoded data removed]",
      "text/plain": [
       "<Figure size 640x480 with 1 Axes>"
      ]
     },
     "metadata": {},
     "output_type": "display_data"
    }
   ],
   "source": [
    "### plot distrtibution of Normal traffic and Attacks in the whole dataset \n",
    "\n",
    "\n",
    "plt.ticklabel_format(axis='y', useMathText=True, useOffset=False)  # change def ScalarFormatter\n",
    "\n",
    "sns.countplot(x=\"is_attack\", data=df, palette=[\"g\",\"r\"], legend=True)\n",
    "plt.title(\"Traffic distribution in the entire set\")\n",
    "plt.xlabel(\"Type\")\n",
    "plt.ylabel(\"number of samples\")\n",
    "#plt.savefig(\"distribution1.png\", dpi=200, format='png')\n",
    "plt.show()"
   ]
  },
  {
   "cell_type": "code",
   "execution_count": 24,
   "metadata": {},
   "outputs": [
    {
     "data": {
      "text/plain": [
       "{0: 461814, 1: 112929}"
      ]
     },
     "execution_count": 24,
     "metadata": {},
     "output_type": "execute_result"
    }
   ],
   "source": [
    "unique_classes = df['is_attack'].unique()\n",
    "class_counts = df['is_attack'].value_counts()\n",
    "xaxis_labels =[\"Normal\",\"Attack\"]\n",
    "colors = {'normal':'green','attack':'red' }  \n",
    "legend_labels = list(colors.keys())\n",
    "handles = [plt.Rectangle((0,0),1,1, color=colors[label]) for label in legend_labels]\n",
    "\n",
    "count_dict = class_counts.to_dict()\n",
    "count_dict\n",
    "#type(class_counts) # pandas.core.series.Series"
   ]
  },
  {
   "cell_type": "code",
   "execution_count": null,
   "metadata": {},
   "outputs": [
    {
     "data": {
      "text/plain": [
       "[Text(0, 0, '743520.5 km/h'), Text(0, 0, '181815.7 km/h')]"
      ]
     },
     "execution_count": 27,
     "metadata": {},
     "output_type": "execute_result"
    },
    {
     "data": {
      "image/png": "[encoded data removed]",
      "text/plain": [
       "<Figure size 640x480 with 1 Axes>"
      ]
     },
     "metadata": {},
     "output_type": "display_data"
    }
   ],
   "source": [
    "animal_names = ['Lion', 'Cheeta']\n",
    "mph_speed =   count_dict.values()# [50,  75]\n",
    "\n",
    "fig, ax = plt.subplots()\n",
    "bar_container = ax.bar(xaxis_labels, mph_speed)\n",
    "ax.set(ylabel='speed in MPH', title='Running speeds', ylim=(0, 600000))\n",
    "ax.bar_label(bar_container, fmt=lambda x: f'{x * 1.61:.1f} km/h')"
   ]
  },
  {
   "cell_type": "code",
   "execution_count": null,
   "metadata": {},
   "outputs": [
    {
     "data": {
      "image/png": "[encoded data removed]",
      "text/plain": [
       "<Figure size 800x600 with 1 Axes>"
      ]
     },
     "metadata": {},
     "output_type": "display_data"
    }
   ],
   "source": [
    "plt.figure(figsize=(8, 6))\n",
    "plt.bar(unique_classes, class_counts, color=['green', 'red'],)\n",
    "plt.xlabel('Class Labels')\n",
    "plt.ylabel('Number of Instances')\n",
    "plt.title('Class Distribution')\n",
    "plt.xticks(unique_classes)\n",
    "plt.legend(handles, legend_labels, loc=\"upper right\")\n",
    "\n",
    "plt.show()"
   ]
  },
  {
   "cell_type": "code",
   "execution_count": null,
   "metadata": {},
   "outputs": [],
   "source": []
  }
 ],
 "metadata": {
  "kernelspec": {
   "display_name": "env",
   "language": "python",
   "name": "python3"
  },
  "language_info": {
   "codemirror_mode": {
    "name": "ipython",
    "version": 3
   },
   "file_extension": ".py",
   "mimetype": "text/x-python",
   "name": "python",
   "nbconvert_exporter": "python",
   "pygments_lexer": "ipython3",
   "version": "3.11.4"
  }
 },
 "nbformat": 4,
 "nbformat_minor": 2
}
