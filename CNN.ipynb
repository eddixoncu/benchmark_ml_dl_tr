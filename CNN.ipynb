{
  "nbformat": 4,
  "nbformat_minor": 0,
  "metadata": {
    "colab": {
      "provenance": []
    },
    "kernelspec": {
      "name": "python3",
      "display_name": "Python 3"
    },
    "language_info": {
      "name": "python"
    }
  },
  "cells": [
    {
      "cell_type": "code",
      "execution_count": 1,
      "metadata": {
        "colab": {
          "base_uri": "https://localhost:8080/"
        },
        "id": "anD278SFrdps",
        "outputId": "cb4d3e19-0f9e-408b-9c02-78fe67d4ba38"
      },
      "outputs": [
        {
          "output_type": "stream",
          "name": "stdout",
          "text": [
            "Drive already mounted at /content/drive; to attempt to forcibly remount, call drive.mount(\"/content/drive\", force_remount=True).\n"
          ]
        }
      ],
      "source": [
        "from google.colab import drive\n",
        "drive.mount('/content/drive')\n",
        "\n",
        "# 0.1 - General Purpose Libraries/Modules\n",
        "\n",
        "# for linear algebra\n",
        "import numpy as np\n",
        "# for data processing and file I/O\n",
        "import pandas as pd\n",
        "# for plotting\n",
        "import matplotlib.pyplot as plt\n",
        "import seaborn as sns\n",
        "# for measuring latency\n",
        "import time\n",
        "\n",
        "# for data preparation\n",
        "from sklearn.model_selection import train_test_split\n",
        "# for scaling\n",
        "from sklearn.preprocessing import StandardScaler\n",
        "# for balancing the loss function (the dataset is imbalanced)\n",
        "from sklearn.utils.class_weight import compute_class_weight\n",
        "from xgboost import  XGBClassifier\n",
        "from sklearn.ensemble import RandomForestClassifier\n",
        "# for evaluation\n",
        "from sklearn.metrics import accuracy_score, precision_score, recall_score, f1_score"
      ]
    },
    {
      "cell_type": "code",
      "source": [
        "# 0.2 - The CNN architecture is implemented via keras\n",
        "\n",
        "# basic configuration\n",
        "import tensorflow as tf\n",
        "from tensorflow import keras\n",
        "\n",
        "# for the implemantation of the models\n",
        "from keras import layers, Sequential\n",
        "\n",
        "# for readability purposes\n",
        "from keras.models import Model\n",
        "from keras.layers import Dense, Reshape, Concatenate, Conv2D, GlobalAveragePooling2D\n",
        "from keras.layers import Input,BatchNormalization, MaxPooling2D, Flatten, Dropout\n",
        "\n",
        "# for the customization of the model and the training process\n",
        "from keras.callbacks import EarlyStopping, ReduceLROnPlateau\n"
      ],
      "metadata": {
        "id": "W4tXGwCasx6n"
      },
      "execution_count": 2,
      "outputs": []
    },
    {
      "cell_type": "code",
      "source": [
        "def train_val_test_split(df, rstate=42, shuffle=True, stratify=None):\n",
        "    strat = df[stratify] if stratify else None\n",
        "    train_set, test_set = train_test_split(\n",
        "        df, test_size=0.4, random_state=rstate, shuffle=shuffle, stratify=strat)\n",
        "    strat = test_set[stratify] if stratify else None\n",
        "    val_set, test_set = train_test_split(\n",
        "        test_set, test_size=0.5, random_state=rstate, shuffle=shuffle, stratify=strat)\n",
        "    return (train_set, val_set, test_set)"
      ],
      "metadata": {
        "id": "hP95abHETYnE"
      },
      "execution_count": 3,
      "outputs": []
    },
    {
      "cell_type": "code",
      "source": [
        "def get_feature_importances_rf (_data, _target):\n",
        "  RFC = RandomForestClassifier(random_state=10, n_jobs=1) # 100 trees in forest\n",
        "  RFC.fit(_data, _target)\n",
        "  score = np.round(RFC.feature_importances_,5)\n",
        "  _importances = pd.DataFrame({'features':_data.columns,'level of importance':score})\n",
        "  _importances = _importances.sort_values('level of importance',ascending=False).set_index('features')\n",
        "  return _importances\n",
        "\n",
        "\n",
        "def get_feature_importances_xgb(_data, _target):\n",
        "  XGB = XGBClassifier(n_estimators=100, max_depth=3, learning_rate=0.1, missing=np.inf)\n",
        "  XGB.fit(_data, _target)\n",
        "  score = np.round(XGB.feature_importances_,5)\n",
        "  _importances = pd.DataFrame({'features':_data.columns,'level of importance':score})\n",
        "  _importances = _importances.sort_values('level of importance',ascending=False).set_index('features')\n",
        "  return _importances"
      ],
      "metadata": {
        "id": "Y2XBODIUeUXO"
      },
      "execution_count": 4,
      "outputs": []
    },
    {
      "cell_type": "code",
      "source": [
        "# Custom F1-Score Metric\n",
        "class F1ScoreMetric(tf.keras.metrics.Metric):\n",
        "    def __init__(self, name='f1_score', **kwargs):\n",
        "        super(F1ScoreMetric, self).__init__(name=name, **kwargs)\n",
        "        self.precision = self.add_weight(name='precision', initializer='zeros')\n",
        "        self.recall = self.add_weight(name='recall', initializer='zeros')\n",
        "\n",
        "    def update_state(self, y_true, y_pred, sample_weight=None):\n",
        "        y_pred = tf.cast(tf.greater_equal(y_pred, 0.5), tf.int32)\n",
        "        y_true = tf.cast(y_true, tf.int32)\n",
        "\n",
        "        tp = tf.reduce_sum(tf.cast(y_true * y_pred, tf.float32))\n",
        "        fp = tf.reduce_sum(tf.cast((1 - y_true) * y_pred, tf.float32))\n",
        "        fn = tf.reduce_sum(tf.cast(y_true * (1 - y_pred), tf.float32))\n",
        "\n",
        "        precision = tp / (tp + fp + tf.keras.backend.epsilon())\n",
        "        recall = tp / (tp + fn + tf.keras.backend.epsilon())\n",
        "\n",
        "        self.precision.assign(precision)\n",
        "        self.recall.assign(recall)\n",
        "\n",
        "    def result(self):\n",
        "        precision = self.precision\n",
        "        recall = self.recall\n",
        "        return 2 * ((precision * recall) / (precision + recall + tf.keras.backend.epsilon()))\n",
        "\n",
        "    def reset_states(self):\n",
        "        self.precision.assign(0)\n",
        "        self.recall.assign(0)"
      ],
      "metadata": {
        "id": "TNFPF9TUtmIx"
      },
      "execution_count": 5,
      "outputs": []
    },
    {
      "cell_type": "code",
      "source": [
        "# 0.3 - Reproducibility Establishment\n",
        "\n",
        "# Set seed\n",
        "seed = 314159\n",
        "\n",
        "# Set numpy seed\n",
        "np.random.seed(seed)\n",
        "# Set the seed for TensorFlow\n",
        "tf.random.set_seed(seed)"
      ],
      "metadata": {
        "id": "Pibh9erms5ee"
      },
      "execution_count": 6,
      "outputs": []
    },
    {
      "cell_type": "code",
      "source": [
        "ds = \"/content/drive/My Drive/THESIS/Notebook/df_575000.csv\""
      ],
      "metadata": {
        "id": "Wq3ipoKEtZYu"
      },
      "execution_count": 7,
      "outputs": []
    },
    {
      "cell_type": "code",
      "source": [
        "df_data  = pd.read_csv(ds)\n",
        "df_data.info()"
      ],
      "metadata": {
        "colab": {
          "base_uri": "https://localhost:8080/"
        },
        "id": "nacFRoOitk1f",
        "outputId": "3b87476e-bd42-4980-aa35-a16bbfb499f9"
      },
      "execution_count": 8,
      "outputs": [
        {
          "output_type": "stream",
          "name": "stdout",
          "text": [
            "<class 'pandas.core.frame.DataFrame'>\n",
            "RangeIndex: 575000 entries, 0 to 574999\n",
            "Data columns (total 79 columns):\n",
            " #   Column                       Non-Null Count   Dtype  \n",
            "---  ------                       --------------   -----  \n",
            " 0   Destination Port             575000 non-null  int64  \n",
            " 1   Flow Duration                575000 non-null  int64  \n",
            " 2   Total Fwd Packets            575000 non-null  int64  \n",
            " 3   Total Backward Packets       575000 non-null  int64  \n",
            " 4   Total Length of Fwd Packets  575000 non-null  int64  \n",
            " 5   Total Length of Bwd Packets  575000 non-null  int64  \n",
            " 6   Fwd Packet Length Max        575000 non-null  int64  \n",
            " 7   Fwd Packet Length Min        575000 non-null  int64  \n",
            " 8   Fwd Packet Length Mean       575000 non-null  float64\n",
            " 9   Fwd Packet Length Std        575000 non-null  float64\n",
            " 10  Bwd Packet Length Max        575000 non-null  int64  \n",
            " 11  Bwd Packet Length Min        575000 non-null  int64  \n",
            " 12  Bwd Packet Length Mean       575000 non-null  float64\n",
            " 13  Bwd Packet Length Std        575000 non-null  float64\n",
            " 14  Flow Bytes/s                 574728 non-null  float64\n",
            " 15  Flow Packets/s               575000 non-null  float64\n",
            " 16  Flow IAT Mean                575000 non-null  float64\n",
            " 17  Flow IAT Std                 575000 non-null  float64\n",
            " 18  Flow IAT Max                 575000 non-null  int64  \n",
            " 19  Flow IAT Min                 575000 non-null  int64  \n",
            " 20  Fwd IAT Total                575000 non-null  int64  \n",
            " 21  Fwd IAT Mean                 575000 non-null  float64\n",
            " 22  Fwd IAT Std                  575000 non-null  float64\n",
            " 23  Fwd IAT Max                  575000 non-null  int64  \n",
            " 24  Fwd IAT Min                  575000 non-null  int64  \n",
            " 25  Bwd IAT Total                575000 non-null  int64  \n",
            " 26  Bwd IAT Mean                 575000 non-null  float64\n",
            " 27  Bwd IAT Std                  575000 non-null  float64\n",
            " 28  Bwd IAT Max                  575000 non-null  int64  \n",
            " 29  Bwd IAT Min                  575000 non-null  int64  \n",
            " 30  Fwd PSH Flags                575000 non-null  int64  \n",
            " 31  Bwd PSH Flags                575000 non-null  int64  \n",
            " 32  Fwd URG Flags                575000 non-null  int64  \n",
            " 33  Bwd URG Flags                575000 non-null  int64  \n",
            " 34  Fwd Header Length            575000 non-null  int64  \n",
            " 35  Bwd Header Length            575000 non-null  int64  \n",
            " 36  Fwd Packets/s                575000 non-null  float64\n",
            " 37  Bwd Packets/s                575000 non-null  float64\n",
            " 38  Min Packet Length            575000 non-null  int64  \n",
            " 39  Max Packet Length            575000 non-null  int64  \n",
            " 40  Packet Length Mean           575000 non-null  float64\n",
            " 41  Packet Length Std            575000 non-null  float64\n",
            " 42  Packet Length Variance       575000 non-null  float64\n",
            " 43  FIN Flag Count               575000 non-null  int64  \n",
            " 44  SYN Flag Count               575000 non-null  int64  \n",
            " 45  RST Flag Count               575000 non-null  int64  \n",
            " 46  PSH Flag Count               575000 non-null  int64  \n",
            " 47  ACK Flag Count               575000 non-null  int64  \n",
            " 48  URG Flag Count               575000 non-null  int64  \n",
            " 49  CWE Flag Count               575000 non-null  int64  \n",
            " 50  ECE Flag Count               575000 non-null  int64  \n",
            " 51  Down/Up Ratio                575000 non-null  int64  \n",
            " 52  Average Packet Size          575000 non-null  float64\n",
            " 53  Avg Fwd Segment Size         575000 non-null  float64\n",
            " 54  Avg Bwd Segment Size         575000 non-null  float64\n",
            " 55  Fwd Header Length.1          575000 non-null  int64  \n",
            " 56  Fwd Avg Bytes/Bulk           575000 non-null  int64  \n",
            " 57  Fwd Avg Packets/Bulk         575000 non-null  int64  \n",
            " 58  Fwd Avg Bulk Rate            575000 non-null  int64  \n",
            " 59  Bwd Avg Bytes/Bulk           575000 non-null  int64  \n",
            " 60  Bwd Avg Packets/Bulk         575000 non-null  int64  \n",
            " 61  Bwd Avg Bulk Rate            575000 non-null  int64  \n",
            " 62  Subflow Fwd Packets          575000 non-null  int64  \n",
            " 63  Subflow Fwd Bytes            575000 non-null  int64  \n",
            " 64  Subflow Bwd Packets          575000 non-null  int64  \n",
            " 65  Subflow Bwd Bytes            575000 non-null  int64  \n",
            " 66  Init_Win_bytes_forward       575000 non-null  int64  \n",
            " 67  Init_Win_bytes_backward      575000 non-null  int64  \n",
            " 68  act_data_pkt_fwd             575000 non-null  int64  \n",
            " 69  min_seg_size_forward         575000 non-null  int64  \n",
            " 70  Active Mean                  575000 non-null  float64\n",
            " 71  Active Std                   575000 non-null  float64\n",
            " 72  Active Max                   575000 non-null  int64  \n",
            " 73  Active Min                   575000 non-null  int64  \n",
            " 74  Idle Mean                    575000 non-null  float64\n",
            " 75  Idle Std                     575000 non-null  float64\n",
            " 76  Idle Max                     575000 non-null  int64  \n",
            " 77  Idle Min                     575000 non-null  int64  \n",
            " 78  Label                        575000 non-null  object \n",
            "dtypes: float64(24), int64(54), object(1)\n",
            "memory usage: 346.6+ MB\n"
          ]
        }
      ]
    },
    {
      "cell_type": "code",
      "source": [
        "df_data['Label'] = df_data.loc[:, \"Label\"].map(lambda lbl: 0 if lbl == \"BENIGN\" else 1)"
      ],
      "metadata": {
        "id": "7agc9T9g0tPc"
      },
      "execution_count": 9,
      "outputs": []
    },
    {
      "cell_type": "code",
      "source": [
        "df_data.head()"
      ],
      "metadata": {
        "colab": {
          "base_uri": "https://localhost:8080/",
          "height": 307
        },
        "id": "1TG-PEd_5W9_",
        "outputId": "16c29d1e-561b-4c87-abac-4527d8a5ac56"
      },
      "execution_count": 10,
      "outputs": [
        {
          "output_type": "execute_result",
          "data": {
            "text/plain": [
              "   Destination Port  Flow Duration  Total Fwd Packets  Total Backward Packets  \\\n",
              "0                53          31318                  2                       2   \n",
              "1                80       98003692                  7                       5   \n",
              "2               443      116595575                 22                      18   \n",
              "3                53          32041                  2                       2   \n",
              "4                80          50370                  1                       1   \n",
              "\n",
              "   Total Length of Fwd Packets  Total Length of Bwd Packets  \\\n",
              "0                           72                          392   \n",
              "1                          366                        11595   \n",
              "2                          823                         4049   \n",
              "3                           88                          200   \n",
              "4                            0                            0   \n",
              "\n",
              "   Fwd Packet Length Max  Fwd Packet Length Min  Fwd Packet Length Mean  \\\n",
              "0                     36                     36               36.000000   \n",
              "1                    366                      0               52.285714   \n",
              "2                    472                      0               37.409091   \n",
              "3                     44                     44               44.000000   \n",
              "4                      0                      0                0.000000   \n",
              "\n",
              "   Fwd Packet Length Std  ...  min_seg_size_forward  Active Mean   Active Std  \\\n",
              "0               0.000000  ...                    32      0.00000       0.0000   \n",
              "1             138.334997  ...                    32      5.00000       0.0000   \n",
              "2             108.335748  ...                    32  89777.45455  220894.0786   \n",
              "3               0.000000  ...                    32      0.00000       0.0000   \n",
              "4               0.000000  ...                    32      0.00000       0.0000   \n",
              "\n",
              "   Active Max  Active Min   Idle Mean     Idle Std  Idle Max  Idle Min  Label  \n",
              "0           0           0         0.0      0.00000         0         0      0  \n",
              "1           5           5  98000000.0      0.00000  98000000  98000000      1  \n",
              "2      755798       22989  10200000.0  63666.75161  10200000  10000000      0  \n",
              "3           0           0         0.0      0.00000         0         0      0  \n",
              "4           0           0         0.0      0.00000         0         0      0  \n",
              "\n",
              "[5 rows x 79 columns]"
            ],
            "text/html": [
              "\n",
              "  <div id=\"df-a9701ebe-5a25-459d-8541-eb1ea275a00d\" class=\"colab-df-container\">\n",
              "    <div>\n",
              "<style scoped>\n",
              "    .dataframe tbody tr th:only-of-type {\n",
              "        vertical-align: middle;\n",
              "    }\n",
              "\n",
              "    .dataframe tbody tr th {\n",
              "        vertical-align: top;\n",
              "    }\n",
              "\n",
              "    .dataframe thead th {\n",
              "        text-align: right;\n",
              "    }\n",
              "</style>\n",
              "<table border=\"1\" class=\"dataframe\">\n",
              "  <thead>\n",
              "    <tr style=\"text-align: right;\">\n",
              "      <th></th>\n",
              "      <th>Destination Port</th>\n",
              "      <th>Flow Duration</th>\n",
              "      <th>Total Fwd Packets</th>\n",
              "      <th>Total Backward Packets</th>\n",
              "      <th>Total Length of Fwd Packets</th>\n",
              "      <th>Total Length of Bwd Packets</th>\n",
              "      <th>Fwd Packet Length Max</th>\n",
              "      <th>Fwd Packet Length Min</th>\n",
              "      <th>Fwd Packet Length Mean</th>\n",
              "      <th>Fwd Packet Length Std</th>\n",
              "      <th>...</th>\n",
              "      <th>min_seg_size_forward</th>\n",
              "      <th>Active Mean</th>\n",
              "      <th>Active Std</th>\n",
              "      <th>Active Max</th>\n",
              "      <th>Active Min</th>\n",
              "      <th>Idle Mean</th>\n",
              "      <th>Idle Std</th>\n",
              "      <th>Idle Max</th>\n",
              "      <th>Idle Min</th>\n",
              "      <th>Label</th>\n",
              "    </tr>\n",
              "  </thead>\n",
              "  <tbody>\n",
              "    <tr>\n",
              "      <th>0</th>\n",
              "      <td>53</td>\n",
              "      <td>31318</td>\n",
              "      <td>2</td>\n",
              "      <td>2</td>\n",
              "      <td>72</td>\n",
              "      <td>392</td>\n",
              "      <td>36</td>\n",
              "      <td>36</td>\n",
              "      <td>36.000000</td>\n",
              "      <td>0.000000</td>\n",
              "      <td>...</td>\n",
              "      <td>32</td>\n",
              "      <td>0.00000</td>\n",
              "      <td>0.0000</td>\n",
              "      <td>0</td>\n",
              "      <td>0</td>\n",
              "      <td>0.0</td>\n",
              "      <td>0.00000</td>\n",
              "      <td>0</td>\n",
              "      <td>0</td>\n",
              "      <td>0</td>\n",
              "    </tr>\n",
              "    <tr>\n",
              "      <th>1</th>\n",
              "      <td>80</td>\n",
              "      <td>98003692</td>\n",
              "      <td>7</td>\n",
              "      <td>5</td>\n",
              "      <td>366</td>\n",
              "      <td>11595</td>\n",
              "      <td>366</td>\n",
              "      <td>0</td>\n",
              "      <td>52.285714</td>\n",
              "      <td>138.334997</td>\n",
              "      <td>...</td>\n",
              "      <td>32</td>\n",
              "      <td>5.00000</td>\n",
              "      <td>0.0000</td>\n",
              "      <td>5</td>\n",
              "      <td>5</td>\n",
              "      <td>98000000.0</td>\n",
              "      <td>0.00000</td>\n",
              "      <td>98000000</td>\n",
              "      <td>98000000</td>\n",
              "      <td>1</td>\n",
              "    </tr>\n",
              "    <tr>\n",
              "      <th>2</th>\n",
              "      <td>443</td>\n",
              "      <td>116595575</td>\n",
              "      <td>22</td>\n",
              "      <td>18</td>\n",
              "      <td>823</td>\n",
              "      <td>4049</td>\n",
              "      <td>472</td>\n",
              "      <td>0</td>\n",
              "      <td>37.409091</td>\n",
              "      <td>108.335748</td>\n",
              "      <td>...</td>\n",
              "      <td>32</td>\n",
              "      <td>89777.45455</td>\n",
              "      <td>220894.0786</td>\n",
              "      <td>755798</td>\n",
              "      <td>22989</td>\n",
              "      <td>10200000.0</td>\n",
              "      <td>63666.75161</td>\n",
              "      <td>10200000</td>\n",
              "      <td>10000000</td>\n",
              "      <td>0</td>\n",
              "    </tr>\n",
              "    <tr>\n",
              "      <th>3</th>\n",
              "      <td>53</td>\n",
              "      <td>32041</td>\n",
              "      <td>2</td>\n",
              "      <td>2</td>\n",
              "      <td>88</td>\n",
              "      <td>200</td>\n",
              "      <td>44</td>\n",
              "      <td>44</td>\n",
              "      <td>44.000000</td>\n",
              "      <td>0.000000</td>\n",
              "      <td>...</td>\n",
              "      <td>32</td>\n",
              "      <td>0.00000</td>\n",
              "      <td>0.0000</td>\n",
              "      <td>0</td>\n",
              "      <td>0</td>\n",
              "      <td>0.0</td>\n",
              "      <td>0.00000</td>\n",
              "      <td>0</td>\n",
              "      <td>0</td>\n",
              "      <td>0</td>\n",
              "    </tr>\n",
              "    <tr>\n",
              "      <th>4</th>\n",
              "      <td>80</td>\n",
              "      <td>50370</td>\n",
              "      <td>1</td>\n",
              "      <td>1</td>\n",
              "      <td>0</td>\n",
              "      <td>0</td>\n",
              "      <td>0</td>\n",
              "      <td>0</td>\n",
              "      <td>0.000000</td>\n",
              "      <td>0.000000</td>\n",
              "      <td>...</td>\n",
              "      <td>32</td>\n",
              "      <td>0.00000</td>\n",
              "      <td>0.0000</td>\n",
              "      <td>0</td>\n",
              "      <td>0</td>\n",
              "      <td>0.0</td>\n",
              "      <td>0.00000</td>\n",
              "      <td>0</td>\n",
              "      <td>0</td>\n",
              "      <td>0</td>\n",
              "    </tr>\n",
              "  </tbody>\n",
              "</table>\n",
              "<p>5 rows × 79 columns</p>\n",
              "</div>\n",
              "    <div class=\"colab-df-buttons\">\n",
              "\n",
              "  <div class=\"colab-df-container\">\n",
              "    <button class=\"colab-df-convert\" onclick=\"convertToInteractive('df-a9701ebe-5a25-459d-8541-eb1ea275a00d')\"\n",
              "            title=\"Convert this dataframe to an interactive table.\"\n",
              "            style=\"display:none;\">\n",
              "\n",
              "  <svg xmlns=\"http://www.w3.org/2000/svg\" height=\"24px\" viewBox=\"0 -960 960 960\">\n",
              "    <path d=\"M120-120v-720h720v720H120Zm60-500h600v-160H180v160Zm220 220h160v-160H400v160Zm0 220h160v-160H400v160ZM180-400h160v-160H180v160Zm440 0h160v-160H620v160ZM180-180h160v-160H180v160Zm440 0h160v-160H620v160Z\"/>\n",
              "  </svg>\n",
              "    </button>\n",
              "\n",
              "  <style>\n",
              "    .colab-df-container {\n",
              "      display:flex;\n",
              "      gap: 12px;\n",
              "    }\n",
              "\n",
              "    .colab-df-convert {\n",
              "      background-color: #E8F0FE;\n",
              "      border: none;\n",
              "      border-radius: 50%;\n",
              "      cursor: pointer;\n",
              "      display: none;\n",
              "      fill: #1967D2;\n",
              "      height: 32px;\n",
              "      padding: 0 0 0 0;\n",
              "      width: 32px;\n",
              "    }\n",
              "\n",
              "    .colab-df-convert:hover {\n",
              "      background-color: #E2EBFA;\n",
              "      box-shadow: 0px 1px 2px rgba(60, 64, 67, 0.3), 0px 1px 3px 1px rgba(60, 64, 67, 0.15);\n",
              "      fill: #174EA6;\n",
              "    }\n",
              "\n",
              "    .colab-df-buttons div {\n",
              "      margin-bottom: 4px;\n",
              "    }\n",
              "\n",
              "    [theme=dark] .colab-df-convert {\n",
              "      background-color: #3B4455;\n",
              "      fill: #D2E3FC;\n",
              "    }\n",
              "\n",
              "    [theme=dark] .colab-df-convert:hover {\n",
              "      background-color: #434B5C;\n",
              "      box-shadow: 0px 1px 3px 1px rgba(0, 0, 0, 0.15);\n",
              "      filter: drop-shadow(0px 1px 2px rgba(0, 0, 0, 0.3));\n",
              "      fill: #FFFFFF;\n",
              "    }\n",
              "  </style>\n",
              "\n",
              "    <script>\n",
              "      const buttonEl =\n",
              "        document.querySelector('#df-a9701ebe-5a25-459d-8541-eb1ea275a00d button.colab-df-convert');\n",
              "      buttonEl.style.display =\n",
              "        google.colab.kernel.accessAllowed ? 'block' : 'none';\n",
              "\n",
              "      async function convertToInteractive(key) {\n",
              "        const element = document.querySelector('#df-a9701ebe-5a25-459d-8541-eb1ea275a00d');\n",
              "        const dataTable =\n",
              "          await google.colab.kernel.invokeFunction('convertToInteractive',\n",
              "                                                    [key], {});\n",
              "        if (!dataTable) return;\n",
              "\n",
              "        const docLinkHtml = 'Like what you see? Visit the ' +\n",
              "          '<a target=\"_blank\" href=https://colab.research.google.com/notebooks/data_table.ipynb>data table notebook</a>'\n",
              "          + ' to learn more about interactive tables.';\n",
              "        element.innerHTML = '';\n",
              "        dataTable['output_type'] = 'display_data';\n",
              "        await google.colab.output.renderOutput(dataTable, element);\n",
              "        const docLink = document.createElement('div');\n",
              "        docLink.innerHTML = docLinkHtml;\n",
              "        element.appendChild(docLink);\n",
              "      }\n",
              "    </script>\n",
              "  </div>\n",
              "\n",
              "\n",
              "<div id=\"df-8603db6e-1fbf-4ed0-bdd0-8f7491ed3bf1\">\n",
              "  <button class=\"colab-df-quickchart\" onclick=\"quickchart('df-8603db6e-1fbf-4ed0-bdd0-8f7491ed3bf1')\"\n",
              "            title=\"Suggest charts\"\n",
              "            style=\"display:none;\">\n",
              "\n",
              "<svg xmlns=\"http://www.w3.org/2000/svg\" height=\"24px\"viewBox=\"0 0 24 24\"\n",
              "     width=\"24px\">\n",
              "    <g>\n",
              "        <path d=\"M19 3H5c-1.1 0-2 .9-2 2v14c0 1.1.9 2 2 2h14c1.1 0 2-.9 2-2V5c0-1.1-.9-2-2-2zM9 17H7v-7h2v7zm4 0h-2V7h2v10zm4 0h-2v-4h2v4z\"/>\n",
              "    </g>\n",
              "</svg>\n",
              "  </button>\n",
              "\n",
              "<style>\n",
              "  .colab-df-quickchart {\n",
              "      --bg-color: #E8F0FE;\n",
              "      --fill-color: #1967D2;\n",
              "      --hover-bg-color: #E2EBFA;\n",
              "      --hover-fill-color: #174EA6;\n",
              "      --disabled-fill-color: #AAA;\n",
              "      --disabled-bg-color: #DDD;\n",
              "  }\n",
              "\n",
              "  [theme=dark] .colab-df-quickchart {\n",
              "      --bg-color: #3B4455;\n",
              "      --fill-color: #D2E3FC;\n",
              "      --hover-bg-color: #434B5C;\n",
              "      --hover-fill-color: #FFFFFF;\n",
              "      --disabled-bg-color: #3B4455;\n",
              "      --disabled-fill-color: #666;\n",
              "  }\n",
              "\n",
              "  .colab-df-quickchart {\n",
              "    background-color: var(--bg-color);\n",
              "    border: none;\n",
              "    border-radius: 50%;\n",
              "    cursor: pointer;\n",
              "    display: none;\n",
              "    fill: var(--fill-color);\n",
              "    height: 32px;\n",
              "    padding: 0;\n",
              "    width: 32px;\n",
              "  }\n",
              "\n",
              "  .colab-df-quickchart:hover {\n",
              "    background-color: var(--hover-bg-color);\n",
              "    box-shadow: 0 1px 2px rgba(60, 64, 67, 0.3), 0 1px 3px 1px rgba(60, 64, 67, 0.15);\n",
              "    fill: var(--button-hover-fill-color);\n",
              "  }\n",
              "\n",
              "  .colab-df-quickchart-complete:disabled,\n",
              "  .colab-df-quickchart-complete:disabled:hover {\n",
              "    background-color: var(--disabled-bg-color);\n",
              "    fill: var(--disabled-fill-color);\n",
              "    box-shadow: none;\n",
              "  }\n",
              "\n",
              "  .colab-df-spinner {\n",
              "    border: 2px solid var(--fill-color);\n",
              "    border-color: transparent;\n",
              "    border-bottom-color: var(--fill-color);\n",
              "    animation:\n",
              "      spin 1s steps(1) infinite;\n",
              "  }\n",
              "\n",
              "  @keyframes spin {\n",
              "    0% {\n",
              "      border-color: transparent;\n",
              "      border-bottom-color: var(--fill-color);\n",
              "      border-left-color: var(--fill-color);\n",
              "    }\n",
              "    20% {\n",
              "      border-color: transparent;\n",
              "      border-left-color: var(--fill-color);\n",
              "      border-top-color: var(--fill-color);\n",
              "    }\n",
              "    30% {\n",
              "      border-color: transparent;\n",
              "      border-left-color: var(--fill-color);\n",
              "      border-top-color: var(--fill-color);\n",
              "      border-right-color: var(--fill-color);\n",
              "    }\n",
              "    40% {\n",
              "      border-color: transparent;\n",
              "      border-right-color: var(--fill-color);\n",
              "      border-top-color: var(--fill-color);\n",
              "    }\n",
              "    60% {\n",
              "      border-color: transparent;\n",
              "      border-right-color: var(--fill-color);\n",
              "    }\n",
              "    80% {\n",
              "      border-color: transparent;\n",
              "      border-right-color: var(--fill-color);\n",
              "      border-bottom-color: var(--fill-color);\n",
              "    }\n",
              "    90% {\n",
              "      border-color: transparent;\n",
              "      border-bottom-color: var(--fill-color);\n",
              "    }\n",
              "  }\n",
              "</style>\n",
              "\n",
              "  <script>\n",
              "    async function quickchart(key) {\n",
              "      const quickchartButtonEl =\n",
              "        document.querySelector('#' + key + ' button');\n",
              "      quickchartButtonEl.disabled = true;  // To prevent multiple clicks.\n",
              "      quickchartButtonEl.classList.add('colab-df-spinner');\n",
              "      try {\n",
              "        const charts = await google.colab.kernel.invokeFunction(\n",
              "            'suggestCharts', [key], {});\n",
              "      } catch (error) {\n",
              "        console.error('Error during call to suggestCharts:', error);\n",
              "      }\n",
              "      quickchartButtonEl.classList.remove('colab-df-spinner');\n",
              "      quickchartButtonEl.classList.add('colab-df-quickchart-complete');\n",
              "    }\n",
              "    (() => {\n",
              "      let quickchartButtonEl =\n",
              "        document.querySelector('#df-8603db6e-1fbf-4ed0-bdd0-8f7491ed3bf1 button');\n",
              "      quickchartButtonEl.style.display =\n",
              "        google.colab.kernel.accessAllowed ? 'block' : 'none';\n",
              "    })();\n",
              "  </script>\n",
              "</div>\n",
              "\n",
              "    </div>\n",
              "  </div>\n"
            ],
            "application/vnd.google.colaboratory.intrinsic+json": {
              "type": "dataframe",
              "variable_name": "df_data"
            }
          },
          "metadata": {},
          "execution_count": 10
        }
      ]
    },
    {
      "cell_type": "code",
      "source": [
        "# Discarding NA values.\n",
        "# Replace infinite updated data with nan\n",
        "df_data.replace([np.inf, -np.inf], np.nan, inplace=True)\n",
        "\n",
        "# Drop rows with NaN\n",
        "df_data.dropna(inplace=True)\n",
        "df_data.shape"
      ],
      "metadata": {
        "colab": {
          "base_uri": "https://localhost:8080/"
        },
        "id": "3cPM-o8GVpfO",
        "outputId": "2f1ba7a7-33c3-4f9c-ac5f-9e62381ef522"
      },
      "execution_count": 11,
      "outputs": [
        {
          "output_type": "execute_result",
          "data": {
            "text/plain": [
              "(574404, 79)"
            ]
          },
          "metadata": {},
          "execution_count": 11
        }
      ]
    },
    {
      "cell_type": "code",
      "source": [
        "all_zeroes_cols = df_data.loc[:,(df_data.iloc[1:] == 0).all()]\n",
        "df_data.drop(columns=all_zeroes_cols, inplace=True)\n",
        "df_data.shape"
      ],
      "metadata": {
        "colab": {
          "base_uri": "https://localhost:8080/"
        },
        "id": "vzFHKc9AV0-N",
        "outputId": "380743c2-70bf-4a31-cbc5-db8098c5581d"
      },
      "execution_count": 12,
      "outputs": [
        {
          "output_type": "execute_result",
          "data": {
            "text/plain": [
              "(574404, 71)"
            ]
          },
          "metadata": {},
          "execution_count": 12
        }
      ]
    },
    {
      "cell_type": "code",
      "source": [
        "## feature selection phase - prepare data for RFC\n",
        "#lbls = all_datav2.loc[:, \"Label\"]\n",
        "data_w_o_cat_attrs = df_data.iloc[:, :-1]\n",
        "#lbls\n",
        "data_w_o_cat_attrs.shape"
      ],
      "metadata": {
        "colab": {
          "base_uri": "https://localhost:8080/"
        },
        "id": "QpXIX9WXfl5g",
        "outputId": "54124628-057e-45cb-b919-e6464ea389e7"
      },
      "execution_count": 13,
      "outputs": [
        {
          "output_type": "execute_result",
          "data": {
            "text/plain": [
              "(574404, 70)"
            ]
          },
          "metadata": {},
          "execution_count": 13
        }
      ]
    },
    {
      "cell_type": "code",
      "source": [
        "lbls = df_data.loc[:, \"Label\"] #\"Label\"\n",
        "lbls.shape"
      ],
      "metadata": {
        "colab": {
          "base_uri": "https://localhost:8080/"
        },
        "id": "Pd78U2pSjg9w",
        "outputId": "b422d0ec-d37f-479b-a263-47358af9521f"
      },
      "execution_count": 14,
      "outputs": [
        {
          "output_type": "execute_result",
          "data": {
            "text/plain": [
              "(574404,)"
            ]
          },
          "metadata": {},
          "execution_count": 14
        }
      ]
    },
    {
      "cell_type": "code",
      "source": [
        "use_rf = False\n",
        "importances = None\n",
        "if use_rf:\n",
        "  importances = get_feature_importances_rf(data_w_o_cat_attrs, lbls)\n",
        "\n",
        "else:\n",
        "  importances = get_feature_importances_xgb(data_w_o_cat_attrs, lbls)\n",
        "\n",
        "importances"
      ],
      "metadata": {
        "colab": {
          "base_uri": "https://localhost:8080/",
          "height": 455
        },
        "id": "9KFZPCXNjtR4",
        "outputId": "13e826c2-ef3f-4b90-977e-cfa9e5726bfa"
      },
      "execution_count": 15,
      "outputs": [
        {
          "output_type": "execute_result",
          "data": {
            "text/plain": [
              "                        level of importance\n",
              "features                                   \n",
              "Bwd Header Length                   0.17378\n",
              "Average Packet Size                 0.15864\n",
              "Bwd Packet Length Std               0.15401\n",
              "Max Packet Length                   0.08156\n",
              "Bwd Packet Length Min               0.04441\n",
              "...                                     ...\n",
              "RST Flag Count                      0.00000\n",
              "Flow Packets/s                      0.00000\n",
              "Fwd URG Flags                       0.00000\n",
              "Packet Length Variance              0.00000\n",
              "SYN Flag Count                      0.00000\n",
              "\n",
              "[70 rows x 1 columns]"
            ],
            "text/html": [
              "\n",
              "  <div id=\"df-162f2d15-1092-49fd-b8ee-e7a4ac9332e6\" class=\"colab-df-container\">\n",
              "    <div>\n",
              "<style scoped>\n",
              "    .dataframe tbody tr th:only-of-type {\n",
              "        vertical-align: middle;\n",
              "    }\n",
              "\n",
              "    .dataframe tbody tr th {\n",
              "        vertical-align: top;\n",
              "    }\n",
              "\n",
              "    .dataframe thead th {\n",
              "        text-align: right;\n",
              "    }\n",
              "</style>\n",
              "<table border=\"1\" class=\"dataframe\">\n",
              "  <thead>\n",
              "    <tr style=\"text-align: right;\">\n",
              "      <th></th>\n",
              "      <th>level of importance</th>\n",
              "    </tr>\n",
              "    <tr>\n",
              "      <th>features</th>\n",
              "      <th></th>\n",
              "    </tr>\n",
              "  </thead>\n",
              "  <tbody>\n",
              "    <tr>\n",
              "      <th>Bwd Header Length</th>\n",
              "      <td>0.17378</td>\n",
              "    </tr>\n",
              "    <tr>\n",
              "      <th>Average Packet Size</th>\n",
              "      <td>0.15864</td>\n",
              "    </tr>\n",
              "    <tr>\n",
              "      <th>Bwd Packet Length Std</th>\n",
              "      <td>0.15401</td>\n",
              "    </tr>\n",
              "    <tr>\n",
              "      <th>Max Packet Length</th>\n",
              "      <td>0.08156</td>\n",
              "    </tr>\n",
              "    <tr>\n",
              "      <th>Bwd Packet Length Min</th>\n",
              "      <td>0.04441</td>\n",
              "    </tr>\n",
              "    <tr>\n",
              "      <th>...</th>\n",
              "      <td>...</td>\n",
              "    </tr>\n",
              "    <tr>\n",
              "      <th>RST Flag Count</th>\n",
              "      <td>0.00000</td>\n",
              "    </tr>\n",
              "    <tr>\n",
              "      <th>Flow Packets/s</th>\n",
              "      <td>0.00000</td>\n",
              "    </tr>\n",
              "    <tr>\n",
              "      <th>Fwd URG Flags</th>\n",
              "      <td>0.00000</td>\n",
              "    </tr>\n",
              "    <tr>\n",
              "      <th>Packet Length Variance</th>\n",
              "      <td>0.00000</td>\n",
              "    </tr>\n",
              "    <tr>\n",
              "      <th>SYN Flag Count</th>\n",
              "      <td>0.00000</td>\n",
              "    </tr>\n",
              "  </tbody>\n",
              "</table>\n",
              "<p>70 rows × 1 columns</p>\n",
              "</div>\n",
              "    <div class=\"colab-df-buttons\">\n",
              "\n",
              "  <div class=\"colab-df-container\">\n",
              "    <button class=\"colab-df-convert\" onclick=\"convertToInteractive('df-162f2d15-1092-49fd-b8ee-e7a4ac9332e6')\"\n",
              "            title=\"Convert this dataframe to an interactive table.\"\n",
              "            style=\"display:none;\">\n",
              "\n",
              "  <svg xmlns=\"http://www.w3.org/2000/svg\" height=\"24px\" viewBox=\"0 -960 960 960\">\n",
              "    <path d=\"M120-120v-720h720v720H120Zm60-500h600v-160H180v160Zm220 220h160v-160H400v160Zm0 220h160v-160H400v160ZM180-400h160v-160H180v160Zm440 0h160v-160H620v160ZM180-180h160v-160H180v160Zm440 0h160v-160H620v160Z\"/>\n",
              "  </svg>\n",
              "    </button>\n",
              "\n",
              "  <style>\n",
              "    .colab-df-container {\n",
              "      display:flex;\n",
              "      gap: 12px;\n",
              "    }\n",
              "\n",
              "    .colab-df-convert {\n",
              "      background-color: #E8F0FE;\n",
              "      border: none;\n",
              "      border-radius: 50%;\n",
              "      cursor: pointer;\n",
              "      display: none;\n",
              "      fill: #1967D2;\n",
              "      height: 32px;\n",
              "      padding: 0 0 0 0;\n",
              "      width: 32px;\n",
              "    }\n",
              "\n",
              "    .colab-df-convert:hover {\n",
              "      background-color: #E2EBFA;\n",
              "      box-shadow: 0px 1px 2px rgba(60, 64, 67, 0.3), 0px 1px 3px 1px rgba(60, 64, 67, 0.15);\n",
              "      fill: #174EA6;\n",
              "    }\n",
              "\n",
              "    .colab-df-buttons div {\n",
              "      margin-bottom: 4px;\n",
              "    }\n",
              "\n",
              "    [theme=dark] .colab-df-convert {\n",
              "      background-color: #3B4455;\n",
              "      fill: #D2E3FC;\n",
              "    }\n",
              "\n",
              "    [theme=dark] .colab-df-convert:hover {\n",
              "      background-color: #434B5C;\n",
              "      box-shadow: 0px 1px 3px 1px rgba(0, 0, 0, 0.15);\n",
              "      filter: drop-shadow(0px 1px 2px rgba(0, 0, 0, 0.3));\n",
              "      fill: #FFFFFF;\n",
              "    }\n",
              "  </style>\n",
              "\n",
              "    <script>\n",
              "      const buttonEl =\n",
              "        document.querySelector('#df-162f2d15-1092-49fd-b8ee-e7a4ac9332e6 button.colab-df-convert');\n",
              "      buttonEl.style.display =\n",
              "        google.colab.kernel.accessAllowed ? 'block' : 'none';\n",
              "\n",
              "      async function convertToInteractive(key) {\n",
              "        const element = document.querySelector('#df-162f2d15-1092-49fd-b8ee-e7a4ac9332e6');\n",
              "        const dataTable =\n",
              "          await google.colab.kernel.invokeFunction('convertToInteractive',\n",
              "                                                    [key], {});\n",
              "        if (!dataTable) return;\n",
              "\n",
              "        const docLinkHtml = 'Like what you see? Visit the ' +\n",
              "          '<a target=\"_blank\" href=https://colab.research.google.com/notebooks/data_table.ipynb>data table notebook</a>'\n",
              "          + ' to learn more about interactive tables.';\n",
              "        element.innerHTML = '';\n",
              "        dataTable['output_type'] = 'display_data';\n",
              "        await google.colab.output.renderOutput(dataTable, element);\n",
              "        const docLink = document.createElement('div');\n",
              "        docLink.innerHTML = docLinkHtml;\n",
              "        element.appendChild(docLink);\n",
              "      }\n",
              "    </script>\n",
              "  </div>\n",
              "\n",
              "\n",
              "<div id=\"df-4e1343a4-5e31-4f27-9bf7-8164dbdcca11\">\n",
              "  <button class=\"colab-df-quickchart\" onclick=\"quickchart('df-4e1343a4-5e31-4f27-9bf7-8164dbdcca11')\"\n",
              "            title=\"Suggest charts\"\n",
              "            style=\"display:none;\">\n",
              "\n",
              "<svg xmlns=\"http://www.w3.org/2000/svg\" height=\"24px\"viewBox=\"0 0 24 24\"\n",
              "     width=\"24px\">\n",
              "    <g>\n",
              "        <path d=\"M19 3H5c-1.1 0-2 .9-2 2v14c0 1.1.9 2 2 2h14c1.1 0 2-.9 2-2V5c0-1.1-.9-2-2-2zM9 17H7v-7h2v7zm4 0h-2V7h2v10zm4 0h-2v-4h2v4z\"/>\n",
              "    </g>\n",
              "</svg>\n",
              "  </button>\n",
              "\n",
              "<style>\n",
              "  .colab-df-quickchart {\n",
              "      --bg-color: #E8F0FE;\n",
              "      --fill-color: #1967D2;\n",
              "      --hover-bg-color: #E2EBFA;\n",
              "      --hover-fill-color: #174EA6;\n",
              "      --disabled-fill-color: #AAA;\n",
              "      --disabled-bg-color: #DDD;\n",
              "  }\n",
              "\n",
              "  [theme=dark] .colab-df-quickchart {\n",
              "      --bg-color: #3B4455;\n",
              "      --fill-color: #D2E3FC;\n",
              "      --hover-bg-color: #434B5C;\n",
              "      --hover-fill-color: #FFFFFF;\n",
              "      --disabled-bg-color: #3B4455;\n",
              "      --disabled-fill-color: #666;\n",
              "  }\n",
              "\n",
              "  .colab-df-quickchart {\n",
              "    background-color: var(--bg-color);\n",
              "    border: none;\n",
              "    border-radius: 50%;\n",
              "    cursor: pointer;\n",
              "    display: none;\n",
              "    fill: var(--fill-color);\n",
              "    height: 32px;\n",
              "    padding: 0;\n",
              "    width: 32px;\n",
              "  }\n",
              "\n",
              "  .colab-df-quickchart:hover {\n",
              "    background-color: var(--hover-bg-color);\n",
              "    box-shadow: 0 1px 2px rgba(60, 64, 67, 0.3), 0 1px 3px 1px rgba(60, 64, 67, 0.15);\n",
              "    fill: var(--button-hover-fill-color);\n",
              "  }\n",
              "\n",
              "  .colab-df-quickchart-complete:disabled,\n",
              "  .colab-df-quickchart-complete:disabled:hover {\n",
              "    background-color: var(--disabled-bg-color);\n",
              "    fill: var(--disabled-fill-color);\n",
              "    box-shadow: none;\n",
              "  }\n",
              "\n",
              "  .colab-df-spinner {\n",
              "    border: 2px solid var(--fill-color);\n",
              "    border-color: transparent;\n",
              "    border-bottom-color: var(--fill-color);\n",
              "    animation:\n",
              "      spin 1s steps(1) infinite;\n",
              "  }\n",
              "\n",
              "  @keyframes spin {\n",
              "    0% {\n",
              "      border-color: transparent;\n",
              "      border-bottom-color: var(--fill-color);\n",
              "      border-left-color: var(--fill-color);\n",
              "    }\n",
              "    20% {\n",
              "      border-color: transparent;\n",
              "      border-left-color: var(--fill-color);\n",
              "      border-top-color: var(--fill-color);\n",
              "    }\n",
              "    30% {\n",
              "      border-color: transparent;\n",
              "      border-left-color: var(--fill-color);\n",
              "      border-top-color: var(--fill-color);\n",
              "      border-right-color: var(--fill-color);\n",
              "    }\n",
              "    40% {\n",
              "      border-color: transparent;\n",
              "      border-right-color: var(--fill-color);\n",
              "      border-top-color: var(--fill-color);\n",
              "    }\n",
              "    60% {\n",
              "      border-color: transparent;\n",
              "      border-right-color: var(--fill-color);\n",
              "    }\n",
              "    80% {\n",
              "      border-color: transparent;\n",
              "      border-right-color: var(--fill-color);\n",
              "      border-bottom-color: var(--fill-color);\n",
              "    }\n",
              "    90% {\n",
              "      border-color: transparent;\n",
              "      border-bottom-color: var(--fill-color);\n",
              "    }\n",
              "  }\n",
              "</style>\n",
              "\n",
              "  <script>\n",
              "    async function quickchart(key) {\n",
              "      const quickchartButtonEl =\n",
              "        document.querySelector('#' + key + ' button');\n",
              "      quickchartButtonEl.disabled = true;  // To prevent multiple clicks.\n",
              "      quickchartButtonEl.classList.add('colab-df-spinner');\n",
              "      try {\n",
              "        const charts = await google.colab.kernel.invokeFunction(\n",
              "            'suggestCharts', [key], {});\n",
              "      } catch (error) {\n",
              "        console.error('Error during call to suggestCharts:', error);\n",
              "      }\n",
              "      quickchartButtonEl.classList.remove('colab-df-spinner');\n",
              "      quickchartButtonEl.classList.add('colab-df-quickchart-complete');\n",
              "    }\n",
              "    (() => {\n",
              "      let quickchartButtonEl =\n",
              "        document.querySelector('#df-4e1343a4-5e31-4f27-9bf7-8164dbdcca11 button');\n",
              "      quickchartButtonEl.style.display =\n",
              "        google.colab.kernel.accessAllowed ? 'block' : 'none';\n",
              "    })();\n",
              "  </script>\n",
              "</div>\n",
              "\n",
              "  <div id=\"id_b2385490-c9ed-4e00-9c8f-1bad931c3180\">\n",
              "    <style>\n",
              "      .colab-df-generate {\n",
              "        background-color: #E8F0FE;\n",
              "        border: none;\n",
              "        border-radius: 50%;\n",
              "        cursor: pointer;\n",
              "        display: none;\n",
              "        fill: #1967D2;\n",
              "        height: 32px;\n",
              "        padding: 0 0 0 0;\n",
              "        width: 32px;\n",
              "      }\n",
              "\n",
              "      .colab-df-generate:hover {\n",
              "        background-color: #E2EBFA;\n",
              "        box-shadow: 0px 1px 2px rgba(60, 64, 67, 0.3), 0px 1px 3px 1px rgba(60, 64, 67, 0.15);\n",
              "        fill: #174EA6;\n",
              "      }\n",
              "\n",
              "      [theme=dark] .colab-df-generate {\n",
              "        background-color: #3B4455;\n",
              "        fill: #D2E3FC;\n",
              "      }\n",
              "\n",
              "      [theme=dark] .colab-df-generate:hover {\n",
              "        background-color: #434B5C;\n",
              "        box-shadow: 0px 1px 3px 1px rgba(0, 0, 0, 0.15);\n",
              "        filter: drop-shadow(0px 1px 2px rgba(0, 0, 0, 0.3));\n",
              "        fill: #FFFFFF;\n",
              "      }\n",
              "    </style>\n",
              "    <button class=\"colab-df-generate\" onclick=\"generateWithVariable('importances')\"\n",
              "            title=\"Generate code using this dataframe.\"\n",
              "            style=\"display:none;\">\n",
              "\n",
              "  <svg xmlns=\"http://www.w3.org/2000/svg\" height=\"24px\"viewBox=\"0 0 24 24\"\n",
              "       width=\"24px\">\n",
              "    <path d=\"M7,19H8.4L18.45,9,17,7.55,7,17.6ZM5,21V16.75L18.45,3.32a2,2,0,0,1,2.83,0l1.4,1.43a1.91,1.91,0,0,1,.58,1.4,1.91,1.91,0,0,1-.58,1.4L9.25,21ZM18.45,9,17,7.55Zm-12,3A5.31,5.31,0,0,0,4.9,8.1,5.31,5.31,0,0,0,1,6.5,5.31,5.31,0,0,0,4.9,4.9,5.31,5.31,0,0,0,6.5,1,5.31,5.31,0,0,0,8.1,4.9,5.31,5.31,0,0,0,12,6.5,5.46,5.46,0,0,0,6.5,12Z\"/>\n",
              "  </svg>\n",
              "    </button>\n",
              "    <script>\n",
              "      (() => {\n",
              "      const buttonEl =\n",
              "        document.querySelector('#id_b2385490-c9ed-4e00-9c8f-1bad931c3180 button.colab-df-generate');\n",
              "      buttonEl.style.display =\n",
              "        google.colab.kernel.accessAllowed ? 'block' : 'none';\n",
              "\n",
              "      buttonEl.onclick = () => {\n",
              "        google.colab.notebook.generateWithVariable('importances');\n",
              "      }\n",
              "      })();\n",
              "    </script>\n",
              "  </div>\n",
              "\n",
              "    </div>\n",
              "  </div>\n"
            ],
            "application/vnd.google.colaboratory.intrinsic+json": {
              "type": "dataframe",
              "variable_name": "importances",
              "summary": "{\n  \"name\": \"importances\",\n  \"rows\": 70,\n  \"fields\": [\n    {\n      \"column\": \"features\",\n      \"properties\": {\n        \"dtype\": \"string\",\n        \"num_unique_values\": 70,\n        \"samples\": [\n          \"FIN Flag Count\",\n          \"Bwd Header Length\",\n          \"URG Flag Count\"\n        ],\n        \"semantic_type\": \"\",\n        \"description\": \"\"\n      }\n    },\n    {\n      \"column\": \"level of importance\",\n      \"properties\": {\n        \"dtype\": \"float32\",\n        \"num_unique_values\": 52,\n        \"samples\": [\n          0.009080000221729279,\n          0.0018400000408291817,\n          0.0006300000241026282\n        ],\n        \"semantic_type\": \"\",\n        \"description\": \"\"\n      }\n    }\n  ]\n}"
            }
          },
          "metadata": {},
          "execution_count": 15
        }
      ]
    },
    {
      "cell_type": "code",
      "source": [
        "threshold = 0.001 # importance threshold\n",
        "bl_thresh = importances.loc[importances[\"level of importance\"] < threshold]\n",
        "print(\"there are {} features to delete, as they are below chosen threshold\".format(bl_thresh.shape[0]))\n",
        "print(\"these features are the following:\")\n",
        "feats_to_del = [feat for feat in bl_thresh.index]\n",
        "print(\"\\n\".join(feats_to_del))"
      ],
      "metadata": {
        "colab": {
          "base_uri": "https://localhost:8080/"
        },
        "id": "xKYMDibwkpRX",
        "outputId": "bb0e42ec-0748-4171-be52-510e4c7155b9"
      },
      "execution_count": 16,
      "outputs": [
        {
          "output_type": "stream",
          "name": "stdout",
          "text": [
            "there are 26 features to delete, as they are below chosen threshold\n",
            "these features are the following:\n",
            "Bwd IAT Std\n",
            "Fwd IAT Std\n",
            "Fwd Packet Length Mean\n",
            "Bwd IAT Min\n",
            "Total Backward Packets\n",
            "URG Flag Count\n",
            "Active Max\n",
            "Bwd IAT Total\n",
            "Subflow Bwd Bytes\n",
            "Idle Std\n",
            "Active Mean\n",
            "Idle Max\n",
            "Fwd Header Length.1\n",
            "Subflow Bwd Packets\n",
            "Subflow Fwd Bytes\n",
            "Subflow Fwd Packets\n",
            "Avg Bwd Segment Size\n",
            "Avg Fwd Segment Size\n",
            "Bwd IAT Max\n",
            "ECE Flag Count\n",
            "CWE Flag Count\n",
            "RST Flag Count\n",
            "Flow Packets/s\n",
            "Fwd URG Flags\n",
            "Packet Length Variance\n",
            "SYN Flag Count\n"
          ]
        }
      ]
    },
    {
      "cell_type": "code",
      "source": [
        "## removing these not important features\n",
        "df_data.drop(columns=feats_to_del, inplace=True)\n",
        "df_data.shape"
      ],
      "metadata": {
        "colab": {
          "base_uri": "https://localhost:8080/"
        },
        "id": "zVMEvzZEk4L_",
        "outputId": "9c675446-a18a-4cc1-f942-2f68c4cbde39"
      },
      "execution_count": 17,
      "outputs": [
        {
          "output_type": "execute_result",
          "data": {
            "text/plain": [
              "(574404, 45)"
            ]
          },
          "metadata": {},
          "execution_count": 17
        }
      ]
    },
    {
      "cell_type": "code",
      "source": [
        "X = df_data.drop(['Label'], axis=1).values\n",
        "y = df_data['Label'].values"
      ],
      "metadata": {
        "id": "gKpIjZT95b2I"
      },
      "execution_count": 18,
      "outputs": []
    },
    {
      "cell_type": "code",
      "source": [
        "# Normalize features\n",
        "scaler = StandardScaler()\n",
        "X = scaler.fit_transform(X)"
      ],
      "metadata": {
        "id": "75ESJll_5yG1"
      },
      "execution_count": 19,
      "outputs": []
    },
    {
      "cell_type": "code",
      "source": [
        "X_train, X_temp, y_train, y_temp = train_test_split(X, y, test_size=0.3, random_state=42)\n",
        "X_val, X_test, y_val, y_test = train_test_split(X_temp, y_temp, test_size=0.5, random_state=42)\n"
      ],
      "metadata": {
        "id": "vedQuGqu51Qm"
      },
      "execution_count": 20,
      "outputs": []
    },
    {
      "cell_type": "code",
      "source": [
        "# Step 3: Build the CNN Model\n",
        "model = tf.keras.Sequential([\n",
        "    tf.keras.layers.Input(shape=(X_train.shape[1], 1)),  # Input layer\n",
        "    tf.keras.layers.Conv1D(32, kernel_size=3, activation='relu'),\n",
        "    tf.keras.layers.MaxPooling1D(pool_size=2),\n",
        "    tf.keras.layers.Conv1D(64, kernel_size=3, activation='relu'),\n",
        "    tf.keras.layers.MaxPooling1D(pool_size=2),\n",
        "    tf.keras.layers.Flatten(),\n",
        "    tf.keras.layers.Dense(64, activation='relu'),\n",
        "    tf.keras.layers.Dropout(0.5),\n",
        "    tf.keras.layers.Dense(1, activation='sigmoid')  # Output layer\n",
        "])"
      ],
      "metadata": {
        "id": "8fmI6mnu59Cf"
      },
      "execution_count": 21,
      "outputs": []
    },
    {
      "cell_type": "code",
      "source": [
        "# Step 4: Compile the Model\n",
        "model.compile(optimizer='adam',\n",
        "              loss='binary_crossentropy',\n",
        "              metrics=[F1ScoreMetric()]) # 'f1_score'"
      ],
      "metadata": {
        "id": "7Eh4Mlm66El1"
      },
      "execution_count": 22,
      "outputs": []
    },
    {
      "cell_type": "code",
      "source": [
        "# Step 5: Train the Model\n",
        "X_train = X_train.reshape(-1, X_train.shape[1], 1)  # Reshape for Conv1D\n",
        "X_val = X_val.reshape(-1, X_val.shape[1], 1)\n"
      ],
      "metadata": {
        "id": "u9FR4Jq66HAX"
      },
      "execution_count": 23,
      "outputs": []
    },
    {
      "cell_type": "code",
      "source": [
        "history = model.fit(X_train, y_train,\n",
        "                    validation_data=(X_val, y_val),\n",
        "                    epochs=20,\n",
        "                    batch_size=32)"
      ],
      "metadata": {
        "colab": {
          "base_uri": "https://localhost:8080/"
        },
        "id": "vnLH0LU26J4m",
        "outputId": "26e76b09-8542-4755-81f7-fd9163bed50c"
      },
      "execution_count": 24,
      "outputs": [
        {
          "output_type": "stream",
          "name": "stdout",
          "text": [
            "Epoch 1/20\n",
            "\u001b[1m12566/12566\u001b[0m \u001b[32m━━━━━━━━━━━━━━━━━━━━\u001b[0m\u001b[37m\u001b[0m \u001b[1m46s\u001b[0m 4ms/step - f1_score: 0.1949 - loss: 0.1191 - val_f1_score: 0.1765 - val_loss: 0.0547\n",
            "Epoch 2/20\n",
            "\u001b[1m12566/12566\u001b[0m \u001b[32m━━━━━━━━━━━━━━━━━━━━\u001b[0m\u001b[37m\u001b[0m \u001b[1m81s\u001b[0m 3ms/step - f1_score: 0.1977 - loss: 0.0612 - val_f1_score: 0.1765 - val_loss: 0.0525\n",
            "Epoch 3/20\n",
            "\u001b[1m12566/12566\u001b[0m \u001b[32m━━━━━━━━━━━━━━━━━━━━\u001b[0m\u001b[37m\u001b[0m \u001b[1m41s\u001b[0m 3ms/step - f1_score: 0.1980 - loss: 0.0537 - val_f1_score: 0.1765 - val_loss: 0.0471\n",
            "Epoch 4/20\n",
            "\u001b[1m12566/12566\u001b[0m \u001b[32m━━━━━━━━━━━━━━━━━━━━\u001b[0m\u001b[37m\u001b[0m \u001b[1m40s\u001b[0m 3ms/step - f1_score: 0.1985 - loss: 0.0496 - val_f1_score: 0.1765 - val_loss: 0.0439\n",
            "Epoch 5/20\n",
            "\u001b[1m12566/12566\u001b[0m \u001b[32m━━━━━━━━━━━━━━━━━━━━\u001b[0m\u001b[37m\u001b[0m \u001b[1m44s\u001b[0m 3ms/step - f1_score: 0.1987 - loss: 0.0453 - val_f1_score: 0.1765 - val_loss: 0.0464\n",
            "Epoch 6/20\n",
            "\u001b[1m12566/12566\u001b[0m \u001b[32m━━━━━━━━━━━━━━━━━━━━\u001b[0m\u001b[37m\u001b[0m \u001b[1m80s\u001b[0m 3ms/step - f1_score: 0.1988 - loss: 0.0434 - val_f1_score: 0.1765 - val_loss: 0.0415\n",
            "Epoch 7/20\n",
            "\u001b[1m12566/12566\u001b[0m \u001b[32m━━━━━━━━━━━━━━━━━━━━\u001b[0m\u001b[37m\u001b[0m \u001b[1m43s\u001b[0m 3ms/step - f1_score: 0.1989 - loss: 0.0427 - val_f1_score: 0.1765 - val_loss: 0.0362\n",
            "Epoch 8/20\n",
            "\u001b[1m12566/12566\u001b[0m \u001b[32m━━━━━━━━━━━━━━━━━━━━\u001b[0m\u001b[37m\u001b[0m \u001b[1m40s\u001b[0m 3ms/step - f1_score: 0.1989 - loss: 0.0421 - val_f1_score: 0.1765 - val_loss: 0.0419\n",
            "Epoch 9/20\n",
            "\u001b[1m12566/12566\u001b[0m \u001b[32m━━━━━━━━━━━━━━━━━━━━\u001b[0m\u001b[37m\u001b[0m \u001b[1m43s\u001b[0m 3ms/step - f1_score: 0.1988 - loss: 0.0416 - val_f1_score: 0.1765 - val_loss: 0.0377\n",
            "Epoch 10/20\n",
            "\u001b[1m12566/12566\u001b[0m \u001b[32m━━━━━━━━━━━━━━━━━━━━\u001b[0m\u001b[37m\u001b[0m \u001b[1m86s\u001b[0m 4ms/step - f1_score: 0.1988 - loss: 0.0400 - val_f1_score: 0.1765 - val_loss: 0.0361\n",
            "Epoch 11/20\n",
            "\u001b[1m12566/12566\u001b[0m \u001b[32m━━━━━━━━━━━━━━━━━━━━\u001b[0m\u001b[37m\u001b[0m \u001b[1m78s\u001b[0m 3ms/step - f1_score: 0.1987 - loss: 0.0399 - val_f1_score: 0.1765 - val_loss: 0.0356\n",
            "Epoch 12/20\n",
            "\u001b[1m12566/12566\u001b[0m \u001b[32m━━━━━━━━━━━━━━━━━━━━\u001b[0m\u001b[37m\u001b[0m \u001b[1m84s\u001b[0m 4ms/step - f1_score: 0.1988 - loss: 0.0389 - val_f1_score: 0.1765 - val_loss: 0.0365\n",
            "Epoch 13/20\n",
            "\u001b[1m12566/12566\u001b[0m \u001b[32m━━━━━━━━━━━━━━━━━━━━\u001b[0m\u001b[37m\u001b[0m \u001b[1m43s\u001b[0m 3ms/step - f1_score: 0.1987 - loss: 0.0397 - val_f1_score: 0.1765 - val_loss: 0.0395\n",
            "Epoch 14/20\n",
            "\u001b[1m12566/12566\u001b[0m \u001b[32m━━━━━━━━━━━━━━━━━━━━\u001b[0m\u001b[37m\u001b[0m \u001b[1m44s\u001b[0m 3ms/step - f1_score: 0.1987 - loss: 0.0396 - val_f1_score: 0.1765 - val_loss: 0.0350\n",
            "Epoch 15/20\n",
            "\u001b[1m12566/12566\u001b[0m \u001b[32m━━━━━━━━━━━━━━━━━━━━\u001b[0m\u001b[37m\u001b[0m \u001b[1m46s\u001b[0m 4ms/step - f1_score: 0.1985 - loss: 0.0394 - val_f1_score: 0.1765 - val_loss: 0.0356\n",
            "Epoch 16/20\n",
            "\u001b[1m12566/12566\u001b[0m \u001b[32m━━━━━━━━━━━━━━━━━━━━\u001b[0m\u001b[37m\u001b[0m \u001b[1m47s\u001b[0m 4ms/step - f1_score: 0.1986 - loss: 0.0383 - val_f1_score: 0.1765 - val_loss: 0.0358\n",
            "Epoch 17/20\n",
            "\u001b[1m12566/12566\u001b[0m \u001b[32m━━━━━━━━━━━━━━━━━━━━\u001b[0m\u001b[37m\u001b[0m \u001b[1m50s\u001b[0m 4ms/step - f1_score: 0.1984 - loss: 0.0386 - val_f1_score: 0.1765 - val_loss: 0.0334\n",
            "Epoch 18/20\n",
            "\u001b[1m12566/12566\u001b[0m \u001b[32m━━━━━━━━━━━━━━━━━━━━\u001b[0m\u001b[37m\u001b[0m \u001b[1m43s\u001b[0m 3ms/step - f1_score: 0.1985 - loss: 0.0378 - val_f1_score: 0.1765 - val_loss: 0.0334\n",
            "Epoch 19/20\n",
            "\u001b[1m12566/12566\u001b[0m \u001b[32m━━━━━━━━━━━━━━━━━━━━\u001b[0m\u001b[37m\u001b[0m \u001b[1m85s\u001b[0m 4ms/step - f1_score: 0.1985 - loss: 0.0381 - val_f1_score: 0.1765 - val_loss: 0.0359\n",
            "Epoch 20/20\n",
            "\u001b[1m12566/12566\u001b[0m \u001b[32m━━━━━━━━━━━━━━━━━━━━\u001b[0m\u001b[37m\u001b[0m \u001b[1m44s\u001b[0m 3ms/step - f1_score: 0.1985 - loss: 0.0377 - val_f1_score: 0.1765 - val_loss: 0.0341\n"
          ]
        }
      ]
    },
    {
      "cell_type": "code",
      "source": [
        "# Step 6: Evaluate the Model\n",
        "X_test = X_test.reshape(-1, X_test.shape[1], 1)\n",
        "test_loss, test_acc = model.evaluate(X_test, y_test)\n",
        "print(f\"Test F1-score: {test_acc:.2f}\")"
      ],
      "metadata": {
        "colab": {
          "base_uri": "https://localhost:8080/"
        },
        "id": "zjwtgNmCCz3P",
        "outputId": "88d808f8-6990-4178-aea4-b33937a4a418"
      },
      "execution_count": 25,
      "outputs": [
        {
          "output_type": "stream",
          "name": "stdout",
          "text": [
            "\u001b[1m2693/2693\u001b[0m \u001b[32m━━━━━━━━━━━━━━━━━━━━\u001b[0m\u001b[37m\u001b[0m \u001b[1m5s\u001b[0m 2ms/step - f1_score: 0.2007 - loss: 0.0342\n",
            "Test Accuracy: 0.12\n"
          ]
        }
      ]
    },
    {
      "cell_type": "code",
      "source": [
        "plt.xlabel(\"# Epoch\")\n",
        "plt.ylabel(\"loss\")\n",
        "plt.plot(history.history[\"loss\"])"
      ],
      "metadata": {
        "colab": {
          "base_uri": "https://localhost:8080/",
          "height": 466
        },
        "id": "YCxOqeRSC90f",
        "outputId": "a6ff75eb-d22b-4104-f765-0c8e035f224a"
      },
      "execution_count": 26,
      "outputs": [
        {
          "output_type": "execute_result",
          "data": {
            "text/plain": [
              "[<matplotlib.lines.Line2D at 0x7de8c9da8b80>]"
            ]
          },
          "metadata": {},
          "execution_count": 26
        },
        {
          "output_type": "display_data",
          "data": {
            "text/plain": [
              "<Figure size 640x480 with 1 Axes>"
            ],
            "image/png": "[encoded data removed]"
          },
          "metadata": {}
        }
      ]
    },
    {
      "cell_type": "code",
      "source": [
        "# Get Predictions\n",
        "y_pred = model.predict(X_test)\n",
        "y_pred_binary = (y_pred >= 0.5).astype(int)"
      ],
      "metadata": {
        "colab": {
          "base_uri": "https://localhost:8080/"
        },
        "id": "gpm9_6VL6Pyf",
        "outputId": "a54594e8-57e9-431b-a1f0-57dcd2a56096"
      },
      "execution_count": 27,
      "outputs": [
        {
          "output_type": "stream",
          "name": "stdout",
          "text": [
            "\u001b[1m2693/2693\u001b[0m \u001b[32m━━━━━━━━━━━━━━━━━━━━\u001b[0m\u001b[37m\u001b[0m \u001b[1m4s\u001b[0m 1ms/step\n"
          ]
        }
      ]
    },
    {
      "cell_type": "code",
      "source": [
        "f1 = f1_score(y_test, y_pred_binary)\n",
        "print(f\"Test F1-Score: {f1:.2f}\")"
      ],
      "metadata": {
        "colab": {
          "base_uri": "https://localhost:8080/"
        },
        "id": "aEwqadtu6Xk2",
        "outputId": "fee17df4-ab7f-4159-a7c5-f375f6755407"
      },
      "execution_count": 28,
      "outputs": [
        {
          "output_type": "stream",
          "name": "stdout",
          "text": [
            "Test F1-Score: 0.96\n"
          ]
        }
      ]
    }
  ]
}